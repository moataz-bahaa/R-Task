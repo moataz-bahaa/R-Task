{
 "cells": [
  {
   "attachments": {},
   "cell_type": "markdown",
   "metadata": {},
   "source": [
    "# installing packages"
   ]
  },
  {
   "cell_type": "code",
   "execution_count": 4,
   "metadata": {
    "vscode": {
     "languageId": "r"
    }
   },
   "outputs": [
    {
     "name": "stderr",
     "output_type": "stream",
     "text": [
      "Installing package into 'C:/Users/NoteBook/AppData/Local/R/win-library/4.2'\n",
      "(as 'lib' is unspecified)\n",
      "\n"
     ]
    },
    {
     "name": "stdout",
     "output_type": "stream",
     "text": [
      "package 'tidyverse' successfully unpacked and MD5 sums checked\n",
      "\n",
      "The downloaded binary packages are in\n",
      "\tC:\\Users\\NoteBook\\AppData\\Local\\Temp\\RtmpmuPBuC\\downloaded_packages\n"
     ]
    }
   ],
   "source": [
    "install.packages('tidyverse')"
   ]
  },
  {
   "cell_type": "code",
   "execution_count": 6,
   "metadata": {
    "vscode": {
     "languageId": "r"
    }
   },
   "outputs": [],
   "source": [
    "library(tidyverse)"
   ]
  },
  {
   "attachments": {},
   "cell_type": "markdown",
   "metadata": {},
   "source": [
    "# reading data set"
   ]
  },
  {
   "cell_type": "code",
   "execution_count": 68,
   "metadata": {
    "vscode": {
     "languageId": "r"
    }
   },
   "outputs": [],
   "source": [
    "data = read.csv('G1_Allometry.csv')"
   ]
  },
  {
   "cell_type": "code",
   "execution_count": 8,
   "metadata": {
    "vscode": {
     "languageId": "r"
    }
   },
   "outputs": [
    {
     "data": {
      "text/html": [
       "<table class=\"dataframe\">\n",
       "<caption>A data.frame: 6 × 5</caption>\n",
       "<thead>\n",
       "\t<tr><th></th><th scope=col>species</th><th scope=col>diameter</th><th scope=col>height</th><th scope=col>leafarea</th><th scope=col>branchmass</th></tr>\n",
       "\t<tr><th></th><th scope=col>&lt;chr&gt;</th><th scope=col>&lt;dbl&gt;</th><th scope=col>&lt;chr&gt;</th><th scope=col>&lt;dbl&gt;</th><th scope=col>&lt;dbl&gt;</th></tr>\n",
       "</thead>\n",
       "<tbody>\n",
       "\t<tr><th scope=row>1</th><td>PSME</td><td>54.61</td><td>“27.03999951”</td><td>338.485622</td><td>410.24638</td></tr>\n",
       "\t<tr><th scope=row>2</th><td>PSME</td><td>34.80</td><td>27,4199988   </td><td>122.157864</td><td> 83.65030</td></tr>\n",
       "\t<tr><th scope=row>3</th><td>PSME</td><td>24.89</td><td>NA           </td><td>  3.958274</td><td>  3.51270</td></tr>\n",
       "\t<tr><th scope=row>4</th><td>PSME</td><td>28.70</td><td>24,95999968  </td><td> 86.350653</td><td> 73.13027</td></tr>\n",
       "\t<tr><th scope=row>5</th><td>PSME</td><td>34.80</td><td>29,98999968  </td><td> 63.350906</td><td> 62.39044</td></tr>\n",
       "\t<tr><th scope=row>6</th><td>PSME</td><td>37.85</td><td>28,06999906  </td><td> 61.372765</td><td> 53.86594</td></tr>\n",
       "</tbody>\n",
       "</table>\n"
      ],
      "text/latex": [
       "A data.frame: 6 × 5\n",
       "\\begin{tabular}{r|lllll}\n",
       "  & species & diameter & height & leafarea & branchmass\\\\\n",
       "  & <chr> & <dbl> & <chr> & <dbl> & <dbl>\\\\\n",
       "\\hline\n",
       "\t1 & PSME & 54.61 & “27.03999951” & 338.485622 & 410.24638\\\\\n",
       "\t2 & PSME & 34.80 & 27,4199988    & 122.157864 &  83.65030\\\\\n",
       "\t3 & PSME & 24.89 & NA            &   3.958274 &   3.51270\\\\\n",
       "\t4 & PSME & 28.70 & 24,95999968   &  86.350653 &  73.13027\\\\\n",
       "\t5 & PSME & 34.80 & 29,98999968   &  63.350906 &  62.39044\\\\\n",
       "\t6 & PSME & 37.85 & 28,06999906   &  61.372765 &  53.86594\\\\\n",
       "\\end{tabular}\n"
      ],
      "text/markdown": [
       "\n",
       "A data.frame: 6 × 5\n",
       "\n",
       "| <!--/--> | species &lt;chr&gt; | diameter &lt;dbl&gt; | height &lt;chr&gt; | leafarea &lt;dbl&gt; | branchmass &lt;dbl&gt; |\n",
       "|---|---|---|---|---|---|\n",
       "| 1 | PSME | 54.61 | “27.03999951” | 338.485622 | 410.24638 |\n",
       "| 2 | PSME | 34.80 | 27,4199988    | 122.157864 |  83.65030 |\n",
       "| 3 | PSME | 24.89 | NA            |   3.958274 |   3.51270 |\n",
       "| 4 | PSME | 28.70 | 24,95999968   |  86.350653 |  73.13027 |\n",
       "| 5 | PSME | 34.80 | 29,98999968   |  63.350906 |  62.39044 |\n",
       "| 6 | PSME | 37.85 | 28,06999906   |  61.372765 |  53.86594 |\n",
       "\n"
      ],
      "text/plain": [
       "  species diameter height        leafarea   branchmass\n",
       "1 PSME    54.61    “27.03999951” 338.485622 410.24638 \n",
       "2 PSME    34.80    27,4199988    122.157864  83.65030 \n",
       "3 PSME    24.89    NA              3.958274   3.51270 \n",
       "4 PSME    28.70    24,95999968    86.350653  73.13027 \n",
       "5 PSME    34.80    29,98999968    63.350906  62.39044 \n",
       "6 PSME    37.85    28,06999906    61.372765  53.86594 "
      ]
     },
     "metadata": {},
     "output_type": "display_data"
    }
   ],
   "source": [
    "head(data)"
   ]
  },
  {
   "cell_type": "code",
   "execution_count": 9,
   "metadata": {
    "vscode": {
     "languageId": "r"
    }
   },
   "outputs": [
    {
     "data": {
      "text/html": [
       "<table class=\"dataframe\">\n",
       "<caption>A data.frame: 6 × 5</caption>\n",
       "<thead>\n",
       "\t<tr><th></th><th scope=col>species</th><th scope=col>diameter</th><th scope=col>height</th><th scope=col>leafarea</th><th scope=col>branchmass</th></tr>\n",
       "\t<tr><th></th><th scope=col>&lt;chr&gt;</th><th scope=col>&lt;dbl&gt;</th><th scope=col>&lt;chr&gt;</th><th scope=col>&lt;dbl&gt;</th><th scope=col>&lt;dbl&gt;</th></tr>\n",
       "</thead>\n",
       "<tbody>\n",
       "\t<tr><th scope=row>58</th><td>PIMO</td><td>73.66</td><td>44.64000038</td><td>277.494360</td><td>275.71655</td></tr>\n",
       "\t<tr><th scope=row>59</th><td>PIMO</td><td>28.19</td><td>22.59000012</td><td>131.856837</td><td> 91.76231</td></tr>\n",
       "\t<tr><th scope=row>60</th><td>PIMO</td><td>61.47</td><td>44.9899975 </td><td>121.428976</td><td>199.86339</td></tr>\n",
       "\t<tr><th scope=row>61</th><td>PIMO</td><td>51.56</td><td>40.22999936</td><td>212.443589</td><td>220.55688</td></tr>\n",
       "\t<tr><th scope=row>62</th><td>PIMO</td><td>18.29</td><td>12.97999965</td><td> 82.093031</td><td> 28.04785</td></tr>\n",
       "\t<tr><th scope=row>63</th><td>PIMO</td><td> 8.38</td><td>4,949999798</td><td>  6.551044</td><td>  4.36969</td></tr>\n",
       "</tbody>\n",
       "</table>\n"
      ],
      "text/latex": [
       "A data.frame: 6 × 5\n",
       "\\begin{tabular}{r|lllll}\n",
       "  & species & diameter & height & leafarea & branchmass\\\\\n",
       "  & <chr> & <dbl> & <chr> & <dbl> & <dbl>\\\\\n",
       "\\hline\n",
       "\t58 & PIMO & 73.66 & 44.64000038 & 277.494360 & 275.71655\\\\\n",
       "\t59 & PIMO & 28.19 & 22.59000012 & 131.856837 &  91.76231\\\\\n",
       "\t60 & PIMO & 61.47 & 44.9899975  & 121.428976 & 199.86339\\\\\n",
       "\t61 & PIMO & 51.56 & 40.22999936 & 212.443589 & 220.55688\\\\\n",
       "\t62 & PIMO & 18.29 & 12.97999965 &  82.093031 &  28.04785\\\\\n",
       "\t63 & PIMO &  8.38 & 4,949999798 &   6.551044 &   4.36969\\\\\n",
       "\\end{tabular}\n"
      ],
      "text/markdown": [
       "\n",
       "A data.frame: 6 × 5\n",
       "\n",
       "| <!--/--> | species &lt;chr&gt; | diameter &lt;dbl&gt; | height &lt;chr&gt; | leafarea &lt;dbl&gt; | branchmass &lt;dbl&gt; |\n",
       "|---|---|---|---|---|---|\n",
       "| 58 | PIMO | 73.66 | 44.64000038 | 277.494360 | 275.71655 |\n",
       "| 59 | PIMO | 28.19 | 22.59000012 | 131.856837 |  91.76231 |\n",
       "| 60 | PIMO | 61.47 | 44.9899975  | 121.428976 | 199.86339 |\n",
       "| 61 | PIMO | 51.56 | 40.22999936 | 212.443589 | 220.55688 |\n",
       "| 62 | PIMO | 18.29 | 12.97999965 |  82.093031 |  28.04785 |\n",
       "| 63 | PIMO |  8.38 | 4,949999798 |   6.551044 |   4.36969 |\n",
       "\n"
      ],
      "text/plain": [
       "   species diameter height      leafarea   branchmass\n",
       "58 PIMO    73.66    44.64000038 277.494360 275.71655 \n",
       "59 PIMO    28.19    22.59000012 131.856837  91.76231 \n",
       "60 PIMO    61.47    44.9899975  121.428976 199.86339 \n",
       "61 PIMO    51.56    40.22999936 212.443589 220.55688 \n",
       "62 PIMO    18.29    12.97999965  82.093031  28.04785 \n",
       "63 PIMO     8.38    4,949999798   6.551044   4.36969 "
      ]
     },
     "metadata": {},
     "output_type": "display_data"
    }
   ],
   "source": [
    "tail(data)"
   ]
  },
  {
   "cell_type": "code",
   "execution_count": 10,
   "metadata": {
    "vscode": {
     "languageId": "r"
    }
   },
   "outputs": [
    {
     "name": "stdout",
     "output_type": "stream",
     "text": [
      "data                   package:utils                   R Documentation\n",
      "\n",
      "_\bD_\ba_\bt_\ba _\bS_\be_\bt_\bs\n",
      "\n",
      "_\bD_\be_\bs_\bc_\br_\bi_\bp_\bt_\bi_\bo_\bn:\n",
      "\n",
      "     Loads specified data sets, or list the available data sets.\n",
      "\n",
      "_\bU_\bs_\ba_\bg_\be:\n",
      "\n",
      "     data(..., list = character(), package = NULL, lib.loc = NULL,\n",
      "          verbose = getOption(\"verbose\"), envir = .GlobalEnv,\n",
      "          overwrite = TRUE)\n",
      "     \n",
      "_\bA_\br_\bg_\bu_\bm_\be_\bn_\bt_\bs:\n",
      "\n",
      "     ...: literal character strings or names.\n",
      "\n",
      "    list: a character vector.\n",
      "\n",
      " package: a character vector giving the package(s) to look in for data\n",
      "          sets, or 'NULL'.\n",
      "\n",
      "          By default, all packages in the search path are used, then\n",
      "          the 'data' subdirectory (if present) of the current working\n",
      "          directory.\n",
      "\n",
      " lib.loc: a character vector of directory names of R libraries, or\n",
      "          'NULL'.  The default value of 'NULL' corresponds to all\n",
      "          libraries currently known.\n",
      "\n",
      " verbose: a logical.  If 'TRUE', additional diagnostics are printed.\n",
      "\n",
      "   envir: the environment where the data should be loaded.\n",
      "\n",
      "overwrite: logical: should existing objects of the same name in 'envir'\n",
      "          be replaced?\n",
      "\n",
      "_\bD_\be_\bt_\ba_\bi_\bl_\bs:\n",
      "\n",
      "     Currently, four formats of data files are supported:\n",
      "\n",
      "       1. files ending '.R' or '.r' are 'source()'d in, with the R\n",
      "          working directory changed temporarily to the directory\n",
      "          containing the respective file.  ('data' ensures that the\n",
      "          'utils' package is attached, in case it had been run _via_\n",
      "          'utils::data'.)\n",
      "\n",
      "       2. files ending '.RData' or '.rda' are 'load()'ed.\n",
      "\n",
      "       3. files ending '.tab', '.txt' or '.TXT' are read using\n",
      "          'read.table(..., header = TRUE, as.is=FALSE)', and hence\n",
      "          result in a data frame.\n",
      "\n",
      "       4. files ending '.csv' or '.CSV' are read using 'read.table(...,\n",
      "          header = TRUE, sep = \";\", as.is=FALSE)', and also result in a\n",
      "          data frame.\n",
      "\n",
      "     If more than one matching file name is found, the first on this\n",
      "     list is used.  (Files with extensions '.txt', '.tab' or '.csv' can\n",
      "     be compressed, with or without further extension '.gz', '.bz2' or\n",
      "     '.xz'.)\n",
      "\n",
      "     The data sets to be loaded can be specified as a set of character\n",
      "     strings or names, or as the character vector 'list', or as both.\n",
      "\n",
      "     For each given data set, the first two types ('.R' or '.r', and\n",
      "     '.RData' or '.rda' files) can create several variables in the load\n",
      "     environment, which might all be named differently from the data\n",
      "     set.  The third and fourth types will always result in the\n",
      "     creation of a single variable with the same name (without\n",
      "     extension) as the data set.\n",
      "\n",
      "     If no data sets are specified, 'data' lists the available data\n",
      "     sets.  For each package, it looks for a data index in the 'Meta'\n",
      "     subdirectory or, if this is not found, scans the 'data'\n",
      "     subdirectory for data files using 'list_files_with_type'.  The\n",
      "     information about available data sets is returned in an object of\n",
      "     class '\"packageIQR\"'.  The structure of this class is\n",
      "     experimental.  Where the datasets have a different name from the\n",
      "     argument that should be used to retrieve them the index will have\n",
      "     an entry like 'beaver1 (beavers)' which tells us that dataset\n",
      "     'beaver1' can be retrieved by the call 'data(beaver)'.\n",
      "\n",
      "     If 'lib.loc' and 'package' are both 'NULL' (the default), the data\n",
      "     sets are searched for in all the currently loaded packages then in\n",
      "     the 'data' directory (if any) of the current working directory.\n",
      "\n",
      "     If 'lib.loc = NULL' but 'package' is specified as a character\n",
      "     vector, the specified package(s) are searched for first amongst\n",
      "     loaded packages and then in the default library/ies (see\n",
      "     '.libPaths').\n",
      "\n",
      "     If 'lib.loc' _is_ specified (and not 'NULL'), packages are\n",
      "     searched for in the specified library/ies, even if they are\n",
      "     already loaded from another library.\n",
      "\n",
      "     To just look in the 'data' directory of the current working\n",
      "     directory, set 'package = character(0)' (and 'lib.loc = NULL', the\n",
      "     default).\n",
      "\n",
      "_\bV_\ba_\bl_\bu_\be:\n",
      "\n",
      "     A character vector of all data sets specified (whether found or\n",
      "     not), or information about all available data sets in an object of\n",
      "     class '\"packageIQR\"' if none were specified.\n",
      "\n",
      "_\bG_\bo_\bo_\bd _\bp_\br_\ba_\bc_\bt_\bi_\bc_\be:\n",
      "\n",
      "     There is no requirement for 'data(foo)' to create an object named\n",
      "     'foo' (nor to create one object), although it much reduces\n",
      "     confusion if this convention is followed (and it is enforced if\n",
      "     datasets are lazy-loaded).\n",
      "\n",
      "     'data()' was originally intended to allow users to load datasets\n",
      "     from packages for use in their examples, and as such it loaded the\n",
      "     datasets into the workspace '.GlobalEnv'.  This avoided having\n",
      "     large datasets in memory when not in use: that need has been\n",
      "     almost entirely superseded by lazy-loading of datasets.\n",
      "\n",
      "     The ability to specify a dataset by name (without quotes) is a\n",
      "     convenience: in programming the datasets should be specified by\n",
      "     character strings (with quotes).\n",
      "\n",
      "     Use of 'data' within a function without an 'envir' argument has\n",
      "     the almost always undesirable side-effect of putting an object in\n",
      "     the user's workspace (and indeed, of replacing any object of that\n",
      "     name already there).  It would almost always be better to put the\n",
      "     object in the current evaluation environment by 'data(..., envir =\n",
      "     environment())'.  However, two alternatives are usually\n",
      "     preferable, both described in the 'Writing R Extensions' manual.\n",
      "\n",
      "        * For sets of data, set up a package to use lazy-loading of\n",
      "          data.\n",
      "\n",
      "        * For objects which are system data, for example lookup tables\n",
      "          used in calculations within the function, use a file\n",
      "          'R/sysdata.rda' in the package sources or create the objects\n",
      "          by R code at package installation time.\n",
      "\n",
      "     A sometimes important distinction is that the second approach\n",
      "     places objects in the namespace but the first does not.  So if it\n",
      "     is important that the function sees 'mytable' as an object from\n",
      "     the package, it is system data and the second approach should be\n",
      "     used.  In the unusual case that a package uses a lazy-loaded\n",
      "     dataset as a default argument to a function, that needs to be\n",
      "     specified by '::', e.g., 'survival::survexp.us'.\n",
      "\n",
      "_\bW_\ba_\br_\bn_\bi_\bn_\bg:\n",
      "\n",
      "     This function creates objects in the 'envir' environment (by\n",
      "     default the user's workspace) replacing any which already existed.\n",
      "     'data(\"foo\")' can silently create objects other than 'foo': there\n",
      "     have been instances in published packages where it\n",
      "     created/replaced '.Random.seed' and hence change the seed for the\n",
      "     session.\n",
      "\n",
      "_\bN_\bo_\bt_\be:\n",
      "\n",
      "     One can take advantage of the search order and the fact that a\n",
      "     '.R' file will change directory.  If raw data are stored in\n",
      "     'mydata.txt' then one can set up 'mydata.R' to read 'mydata.txt'\n",
      "     and pre-process it, e.g., using 'transform()'.  For instance one\n",
      "     can convert numeric vectors to factors with the appropriate\n",
      "     labels.  Thus, the '.R' file can effectively contain a metadata\n",
      "     specification for the plaintext formats.\n",
      "\n",
      "_\bS_\be_\be _\bA_\bl_\bs_\bo:\n",
      "\n",
      "     'help' for obtaining documentation on data sets, 'save' for\n",
      "     _creating_ the second ('.rda') kind of data, typically the most\n",
      "     efficient one.\n",
      "\n",
      "     The 'Writing R Extensions' for considerations in preparing the\n",
      "     'data' directory of a package.\n",
      "\n",
      "_\bE_\bx_\ba_\bm_\bp_\bl_\be_\bs:\n",
      "\n",
      "     require(utils)\n",
      "     data()                         # list all available data sets\n",
      "     try(data(package = \"rpart\"), silent = TRUE) # list the data sets in the rpart package\n",
      "     data(USArrests, \"VADeaths\")    # load the data sets 'USArrests' and 'VADeaths'\n",
      "     ## Not run:\n",
      "     ## Alternatively\n",
      "     ds <- c(\"USArrests\", \"VADeaths\"); data(list = ds)\n",
      "     ## End(Not run)\n",
      "     \n",
      "     help(USArrests)                # give information on data set 'USArrests'\n",
      "     "
     ]
    }
   ],
   "source": [
    "?data"
   ]
  },
  {
   "cell_type": "code",
   "execution_count": 11,
   "metadata": {
    "vscode": {
     "languageId": "r"
    }
   },
   "outputs": [
    {
     "name": "stdout",
     "output_type": "stream",
     "text": [
      "'data.frame':\t63 obs. of  5 variables:\n",
      " $ species   : chr  \"PSME\" \"PSME\" \"PSME\" \"PSME\" ...\n",
      " $ diameter  : num  54.6 34.8 24.9 28.7 34.8 ...\n",
      " $ height    : chr  \"“27.03999951”\" \"27,4199988\" NA \"24,95999968\" ...\n",
      " $ leafarea  : num  338.49 122.16 3.96 86.35 63.35 ...\n",
      " $ branchmass: num  410.25 83.65 3.51 73.13 62.39 ...\n"
     ]
    }
   ],
   "source": [
    "str(data)"
   ]
  },
  {
   "cell_type": "code",
   "execution_count": 12,
   "metadata": {
    "vscode": {
     "languageId": "r"
    }
   },
   "outputs": [
    {
     "data": {
      "text/html": [
       "<style>\n",
       ".list-inline {list-style: none; margin:0; padding: 0}\n",
       ".list-inline>li {display: inline-block}\n",
       ".list-inline>li:not(:last-child)::after {content: \"\\00b7\"; padding: 0 .5ex}\n",
       "</style>\n",
       "<ol class=list-inline><li>'species'</li><li>'diameter'</li><li>'height'</li><li>'leafarea'</li><li>'branchmass'</li></ol>\n"
      ],
      "text/latex": [
       "\\begin{enumerate*}\n",
       "\\item 'species'\n",
       "\\item 'diameter'\n",
       "\\item 'height'\n",
       "\\item 'leafarea'\n",
       "\\item 'branchmass'\n",
       "\\end{enumerate*}\n"
      ],
      "text/markdown": [
       "1. 'species'\n",
       "2. 'diameter'\n",
       "3. 'height'\n",
       "4. 'leafarea'\n",
       "5. 'branchmass'\n",
       "\n",
       "\n"
      ],
      "text/plain": [
       "[1] \"species\"    \"diameter\"   \"height\"     \"leafarea\"   \"branchmass\""
      ]
     },
     "metadata": {},
     "output_type": "display_data"
    }
   ],
   "source": [
    "colnames(data)"
   ]
  },
  {
   "cell_type": "code",
   "execution_count": 13,
   "metadata": {
    "vscode": {
     "languageId": "r"
    }
   },
   "outputs": [
    {
     "data": {
      "text/html": [
       "63"
      ],
      "text/latex": [
       "63"
      ],
      "text/markdown": [
       "63"
      ],
      "text/plain": [
       "[1] 63"
      ]
     },
     "metadata": {},
     "output_type": "display_data"
    },
    {
     "data": {
      "text/html": [
       "5"
      ],
      "text/latex": [
       "5"
      ],
      "text/markdown": [
       "5"
      ],
      "text/plain": [
       "[1] 5"
      ]
     },
     "metadata": {},
     "output_type": "display_data"
    }
   ],
   "source": [
    "nrow(data)\n",
    "ncol(data)"
   ]
  },
  {
   "cell_type": "code",
   "execution_count": 19,
   "metadata": {
    "vscode": {
     "languageId": "r"
    }
   },
   "outputs": [
    {
     "data": {
      "text/plain": [
       "   species             diameter        height             leafarea      \n",
       " Length:63          Min.   : 4.83   Length:63          Min.   :  2.636  \n",
       " Class :character   1st Qu.:21.59   Class :character   1st Qu.: 28.581  \n",
       " Mode  :character   Median :34.80   Mode  :character   Median : 86.351  \n",
       "                    Mean   :35.56                      Mean   :113.425  \n",
       "                    3rd Qu.:51.44                      3rd Qu.:157.459  \n",
       "                    Max.   :73.66                      Max.   :417.209  \n",
       "   branchmass      \n",
       " Min.   :   1.778  \n",
       " 1st Qu.:  16.878  \n",
       " Median :  72.029  \n",
       " Mean   : 145.011  \n",
       " 3rd Qu.: 162.750  \n",
       " Max.   :1182.422  "
      ]
     },
     "metadata": {},
     "output_type": "display_data"
    }
   ],
   "source": [
    "summary(data)"
   ]
  },
  {
   "cell_type": "code",
   "execution_count": 14,
   "metadata": {
    "vscode": {
     "languageId": "r"
    }
   },
   "outputs": [
    {
     "data": {
      "text/html": [
       "6"
      ],
      "text/latex": [
       "6"
      ],
      "text/markdown": [
       "6"
      ],
      "text/plain": [
       "[1] 6"
      ]
     },
     "metadata": {},
     "output_type": "display_data"
    }
   ],
   "source": [
    "# to count the number of missing values\n",
    "sum(is.na(data))"
   ]
  },
  {
   "attachments": {},
   "cell_type": "markdown",
   "metadata": {},
   "source": [
    "### check duplicate data"
   ]
  },
  {
   "cell_type": "code",
   "execution_count": 20,
   "metadata": {
    "vscode": {
     "languageId": "r"
    }
   },
   "outputs": [
    {
     "data": {
      "text/html": [
       "<table class=\"dataframe\">\n",
       "<caption>A data.frame: 0 × 5</caption>\n",
       "<thead>\n",
       "\t<tr><th scope=col>species</th><th scope=col>diameter</th><th scope=col>height</th><th scope=col>leafarea</th><th scope=col>branchmass</th></tr>\n",
       "\t<tr><th scope=col>&lt;chr&gt;</th><th scope=col>&lt;dbl&gt;</th><th scope=col>&lt;chr&gt;</th><th scope=col>&lt;dbl&gt;</th><th scope=col>&lt;dbl&gt;</th></tr>\n",
       "</thead>\n",
       "<tbody>\n",
       "</tbody>\n",
       "</table>\n"
      ],
      "text/latex": [
       "A data.frame: 0 × 5\n",
       "\\begin{tabular}{lllll}\n",
       " species & diameter & height & leafarea & branchmass\\\\\n",
       " <chr> & <dbl> & <chr> & <dbl> & <dbl>\\\\\n",
       "\\hline\n",
       "\\end{tabular}\n"
      ],
      "text/markdown": [
       "\n",
       "A data.frame: 0 × 5\n",
       "\n",
       "| species &lt;chr&gt; | diameter &lt;dbl&gt; | height &lt;chr&gt; | leafarea &lt;dbl&gt; | branchmass &lt;dbl&gt; |\n",
       "|---|---|---|---|---|\n",
       "\n"
      ],
      "text/plain": [
       "     species diameter height leafarea branchmass"
      ]
     },
     "metadata": {},
     "output_type": "display_data"
    }
   ],
   "source": [
    "# view duplicates\n",
    "data[duplicated(data), ]"
   ]
  },
  {
   "cell_type": "code",
   "execution_count": 21,
   "metadata": {
    "vscode": {
     "languageId": "r"
    }
   },
   "outputs": [
    {
     "data": {
      "text/html": [
       "FALSE"
      ],
      "text/latex": [
       "FALSE"
      ],
      "text/markdown": [
       "FALSE"
      ],
      "text/plain": [
       "[1] FALSE"
      ]
     },
     "metadata": {},
     "output_type": "display_data"
    }
   ],
   "source": [
    "any(duplicated(data))"
   ]
  },
  {
   "attachments": {},
   "cell_type": "markdown",
   "metadata": {},
   "source": [
    "### view rows that has NA, missing values"
   ]
  },
  {
   "cell_type": "code",
   "execution_count": 33,
   "metadata": {
    "vscode": {
     "languageId": "r"
    }
   },
   "outputs": [
    {
     "data": {
      "text/html": [
       "<table class=\"dataframe\">\n",
       "<caption>A data.frame: 6 × 5</caption>\n",
       "<thead>\n",
       "\t<tr><th></th><th scope=col>species</th><th scope=col>diameter</th><th scope=col>height</th><th scope=col>leafarea</th><th scope=col>branchmass</th></tr>\n",
       "\t<tr><th></th><th scope=col>&lt;chr&gt;</th><th scope=col>&lt;dbl&gt;</th><th scope=col>&lt;chr&gt;</th><th scope=col>&lt;dbl&gt;</th><th scope=col>&lt;dbl&gt;</th></tr>\n",
       "</thead>\n",
       "<tbody>\n",
       "\t<tr><th scope=row>NA</th><td>NA</td><td>NA</td><td>NA</td><td>NA</td><td>NA</td></tr>\n",
       "\t<tr><th scope=row>NA.1</th><td>NA</td><td>NA</td><td>NA</td><td>NA</td><td>NA</td></tr>\n",
       "\t<tr><th scope=row>NA.2</th><td>NA</td><td>NA</td><td>NA</td><td>NA</td><td>NA</td></tr>\n",
       "\t<tr><th scope=row>NA.3</th><td>NA</td><td>NA</td><td>NA</td><td>NA</td><td>NA</td></tr>\n",
       "\t<tr><th scope=row>NA.4</th><td>NA</td><td>NA</td><td>NA</td><td>NA</td><td>NA</td></tr>\n",
       "\t<tr><th scope=row>NA.5</th><td>NA</td><td>NA</td><td>NA</td><td>NA</td><td>NA</td></tr>\n",
       "</tbody>\n",
       "</table>\n"
      ],
      "text/latex": [
       "A data.frame: 6 × 5\n",
       "\\begin{tabular}{r|lllll}\n",
       "  & species & diameter & height & leafarea & branchmass\\\\\n",
       "  & <chr> & <dbl> & <chr> & <dbl> & <dbl>\\\\\n",
       "\\hline\n",
       "\tNA & NA & NA & NA & NA & NA\\\\\n",
       "\tNA.1 & NA & NA & NA & NA & NA\\\\\n",
       "\tNA.2 & NA & NA & NA & NA & NA\\\\\n",
       "\tNA.3 & NA & NA & NA & NA & NA\\\\\n",
       "\tNA.4 & NA & NA & NA & NA & NA\\\\\n",
       "\tNA.5 & NA & NA & NA & NA & NA\\\\\n",
       "\\end{tabular}\n"
      ],
      "text/markdown": [
       "\n",
       "A data.frame: 6 × 5\n",
       "\n",
       "| <!--/--> | species &lt;chr&gt; | diameter &lt;dbl&gt; | height &lt;chr&gt; | leafarea &lt;dbl&gt; | branchmass &lt;dbl&gt; |\n",
       "|---|---|---|---|---|---|\n",
       "| NA | NA | NA | NA | NA | NA |\n",
       "| NA.1 | NA | NA | NA | NA | NA |\n",
       "| NA.2 | NA | NA | NA | NA | NA |\n",
       "| NA.3 | NA | NA | NA | NA | NA |\n",
       "| NA.4 | NA | NA | NA | NA | NA |\n",
       "| NA.5 | NA | NA | NA | NA | NA |\n",
       "\n"
      ],
      "text/plain": [
       "     species diameter height leafarea branchmass\n",
       "NA   NA      NA       NA     NA       NA        \n",
       "NA.1 NA      NA       NA     NA       NA        \n",
       "NA.2 NA      NA       NA     NA       NA        \n",
       "NA.3 NA      NA       NA     NA       NA        \n",
       "NA.4 NA      NA       NA     NA       NA        \n",
       "NA.5 NA      NA       NA     NA       NA        "
      ]
     },
     "metadata": {},
     "output_type": "display_data"
    }
   ],
   "source": [
    "data[is.na(data),]"
   ]
  },
  {
   "cell_type": "code",
   "execution_count": 23,
   "metadata": {
    "vscode": {
     "languageId": "r"
    }
   },
   "outputs": [
    {
     "data": {
      "text/html": [
       "0"
      ],
      "text/latex": [
       "0"
      ],
      "text/markdown": [
       "0"
      ],
      "text/plain": [
       "[1] 0"
      ]
     },
     "metadata": {},
     "output_type": "display_data"
    }
   ],
   "source": [
    "sum(is.null(df))"
   ]
  },
  {
   "attachments": {},
   "cell_type": "markdown",
   "metadata": {},
   "source": [
    "# Data Cleaning"
   ]
  },
  {
   "cell_type": "code",
   "execution_count": 40,
   "metadata": {
    "vscode": {
     "languageId": "r"
    }
   },
   "outputs": [
    {
     "data": {
      "text/html": [
       "<table class=\"dataframe\">\n",
       "<caption>A data.frame: 6 × 5</caption>\n",
       "<thead>\n",
       "\t<tr><th></th><th scope=col>species</th><th scope=col>diameter</th><th scope=col>height</th><th scope=col>leafarea</th><th scope=col>branchmass</th></tr>\n",
       "\t<tr><th></th><th scope=col>&lt;chr&gt;</th><th scope=col>&lt;dbl&gt;</th><th scope=col>&lt;chr&gt;</th><th scope=col>&lt;dbl&gt;</th><th scope=col>&lt;dbl&gt;</th></tr>\n",
       "</thead>\n",
       "<tbody>\n",
       "\t<tr><th scope=row>3</th><td>PSME</td><td>24.89</td><td>NA</td><td>  3.958274</td><td>  3.51270</td></tr>\n",
       "\t<tr><th scope=row>7</th><td>PSME</td><td>22.61</td><td>NA</td><td> 32.077794</td><td> 22.22474</td></tr>\n",
       "\t<tr><th scope=row>8</th><td>PSME</td><td>39.37</td><td>NA</td><td>147.270523</td><td>119.38869</td></tr>\n",
       "\t<tr><th scope=row>20</th><td>PSME</td><td>13.51</td><td>NA</td><td> 65.698749</td><td> 34.93701</td></tr>\n",
       "\t<tr><th scope=row>30</th><td>PIPO</td><td>38.86</td><td>NA</td><td> 46.326060</td><td> 58.24071</td></tr>\n",
       "\t<tr><th scope=row>53</th><td>PIMO</td><td>37.85</td><td>NA</td><td>154.078625</td><td> 72.02907</td></tr>\n",
       "</tbody>\n",
       "</table>\n"
      ],
      "text/latex": [
       "A data.frame: 6 × 5\n",
       "\\begin{tabular}{r|lllll}\n",
       "  & species & diameter & height & leafarea & branchmass\\\\\n",
       "  & <chr> & <dbl> & <chr> & <dbl> & <dbl>\\\\\n",
       "\\hline\n",
       "\t3 & PSME & 24.89 & NA &   3.958274 &   3.51270\\\\\n",
       "\t7 & PSME & 22.61 & NA &  32.077794 &  22.22474\\\\\n",
       "\t8 & PSME & 39.37 & NA & 147.270523 & 119.38869\\\\\n",
       "\t20 & PSME & 13.51 & NA &  65.698749 &  34.93701\\\\\n",
       "\t30 & PIPO & 38.86 & NA &  46.326060 &  58.24071\\\\\n",
       "\t53 & PIMO & 37.85 & NA & 154.078625 &  72.02907\\\\\n",
       "\\end{tabular}\n"
      ],
      "text/markdown": [
       "\n",
       "A data.frame: 6 × 5\n",
       "\n",
       "| <!--/--> | species &lt;chr&gt; | diameter &lt;dbl&gt; | height &lt;chr&gt; | leafarea &lt;dbl&gt; | branchmass &lt;dbl&gt; |\n",
       "|---|---|---|---|---|---|\n",
       "| 3 | PSME | 24.89 | NA |   3.958274 |   3.51270 |\n",
       "| 7 | PSME | 22.61 | NA |  32.077794 |  22.22474 |\n",
       "| 8 | PSME | 39.37 | NA | 147.270523 | 119.38869 |\n",
       "| 20 | PSME | 13.51 | NA |  65.698749 |  34.93701 |\n",
       "| 30 | PIPO | 38.86 | NA |  46.326060 |  58.24071 |\n",
       "| 53 | PIMO | 37.85 | NA | 154.078625 |  72.02907 |\n",
       "\n"
      ],
      "text/plain": [
       "   species diameter height leafarea   branchmass\n",
       "3  PSME    24.89    NA       3.958274   3.51270 \n",
       "7  PSME    22.61    NA      32.077794  22.22474 \n",
       "8  PSME    39.37    NA     147.270523 119.38869 \n",
       "20 PSME    13.51    NA      65.698749  34.93701 \n",
       "30 PIPO    38.86    NA      46.326060  58.24071 \n",
       "53 PIMO    37.85    NA     154.078625  72.02907 "
      ]
     },
     "metadata": {},
     "output_type": "display_data"
    }
   ],
   "source": [
    "data[!complete.cases(data),]"
   ]
  },
  {
   "attachments": {},
   "cell_type": "markdown",
   "metadata": {},
   "source": [
    "## working on height column"
   ]
  },
  {
   "cell_type": "code",
   "execution_count": 44,
   "metadata": {
    "vscode": {
     "languageId": "r"
    }
   },
   "outputs": [
    {
     "data": {
      "text/html": [
       "'“27.03999951”'"
      ],
      "text/latex": [
       "'“27.03999951”'"
      ],
      "text/markdown": [
       "'“27.03999951”'"
      ],
      "text/plain": [
       "[1] \"“27.03999951”\""
      ]
     },
     "metadata": {},
     "output_type": "display_data"
    },
    {
     "data": {
      "text/html": [
       "'character'"
      ],
      "text/latex": [
       "'character'"
      ],
      "text/markdown": [
       "'character'"
      ],
      "text/plain": [
       "[1] \"character\""
      ]
     },
     "metadata": {},
     "output_type": "display_data"
    }
   ],
   "source": [
    "data$height[1]\n",
    "typeof(data$height[1])"
   ]
  },
  {
   "cell_type": "code",
   "execution_count": 69,
   "metadata": {
    "vscode": {
     "languageId": "r"
    }
   },
   "outputs": [],
   "source": [
    "# remove unwanted characters from the text values and convert to numeric\n",
    "data$height = gsub(',','.', data$height)\n",
    "data$height <- as.numeric(gsub(\"[^0-9.,-]\", \"\", data$height))"
   ]
  },
  {
   "cell_type": "code",
   "execution_count": 70,
   "metadata": {
    "vscode": {
     "languageId": "r"
    }
   },
   "outputs": [
    {
     "data": {
      "text/html": [
       "26.0182452611228"
      ],
      "text/latex": [
       "26.0182452611228"
      ],
      "text/markdown": [
       "26.0182452611228"
      ],
      "text/plain": [
       "[1] 26.01825"
      ]
     },
     "metadata": {},
     "output_type": "display_data"
    }
   ],
   "source": [
    "mean_height <- mean(data$height, na.rm = T)\n",
    "mean_height"
   ]
  },
  {
   "attachments": {},
   "cell_type": "markdown",
   "metadata": {},
   "source": [
    "replace na values in height with the calculated mean"
   ]
  },
  {
   "cell_type": "code",
   "execution_count": 71,
   "metadata": {
    "vscode": {
     "languageId": "r"
    }
   },
   "outputs": [],
   "source": [
    "data$height[is.na(data$height)] <- mean_height"
   ]
  },
  {
   "cell_type": "code",
   "execution_count": 72,
   "metadata": {
    "vscode": {
     "languageId": "r"
    }
   },
   "outputs": [
    {
     "data": {
      "text/html": [
       "<style>\n",
       ".list-inline {list-style: none; margin:0; padding: 0}\n",
       ".list-inline>li {display: inline-block}\n",
       ".list-inline>li:not(:last-child)::after {content: \"\\00b7\"; padding: 0 .5ex}\n",
       "</style>\n",
       "<ol class=list-inline><li>27.03999951</li><li>27.4199988</li><li>26.0182452611228</li><li>24.95999968</li><li>29.98999968</li><li>28.06999906</li><li>26.0182452611228</li><li>26.0182452611228</li><li>30.10000028</li><li>25.84999877</li><li>31.82999998</li><li>31.35000017</li><li>32.61000019</li><li>31.69999766</li><li>30.17999806</li><li>4.949999782</li><li>5.26000011</li><li>5.580000195</li><li>6.470000131</li><li>26.0182452611228</li><li>33.30000015</li><li>19.38999953</li><li>39.36999864</li><li>35.8099995</li><li>20.80000143</li><li>29.11000066</li><li>22.39999889</li><li>27.69000074</li><li>35.58000047</li><li>26.0182452611228</li><li>41.16000258</li><li>23.34000042</li><li>25.94000095</li><li>25.11000022</li><li>30.3899993</li><li>28.39999855</li><li>23.38000056</li><li>31.72999928</li><li>7.360000515</li><li>3.569999832</li><li>31.92999734</li><li>6.919999749</li><li>5.849999418</li><li>35.13999818</li><li>39.84000257</li><li>40.65999885</li><li>38.88999786</li><li>36.23999975</li><li>23.1300004</li><li>37.5899983</li><li>21.28999927</li><li>13.43999951</li><li>26.0182452611228</li><li>29.04999924</li><li>35.51999923</li><li>5.420000304</li><li>34.55999883</li><li>44.64000038</li><li>22.59000012</li><li>44.9899975</li><li>40.22999936</li><li>12.97999965</li><li>4.949999798</li></ol>\n"
      ],
      "text/latex": [
       "\\begin{enumerate*}\n",
       "\\item 27.03999951\n",
       "\\item 27.4199988\n",
       "\\item 26.0182452611228\n",
       "\\item 24.95999968\n",
       "\\item 29.98999968\n",
       "\\item 28.06999906\n",
       "\\item 26.0182452611228\n",
       "\\item 26.0182452611228\n",
       "\\item 30.10000028\n",
       "\\item 25.84999877\n",
       "\\item 31.82999998\n",
       "\\item 31.35000017\n",
       "\\item 32.61000019\n",
       "\\item 31.69999766\n",
       "\\item 30.17999806\n",
       "\\item 4.949999782\n",
       "\\item 5.26000011\n",
       "\\item 5.580000195\n",
       "\\item 6.470000131\n",
       "\\item 26.0182452611228\n",
       "\\item 33.30000015\n",
       "\\item 19.38999953\n",
       "\\item 39.36999864\n",
       "\\item 35.8099995\n",
       "\\item 20.80000143\n",
       "\\item 29.11000066\n",
       "\\item 22.39999889\n",
       "\\item 27.69000074\n",
       "\\item 35.58000047\n",
       "\\item 26.0182452611228\n",
       "\\item 41.16000258\n",
       "\\item 23.34000042\n",
       "\\item 25.94000095\n",
       "\\item 25.11000022\n",
       "\\item 30.3899993\n",
       "\\item 28.39999855\n",
       "\\item 23.38000056\n",
       "\\item 31.72999928\n",
       "\\item 7.360000515\n",
       "\\item 3.569999832\n",
       "\\item 31.92999734\n",
       "\\item 6.919999749\n",
       "\\item 5.849999418\n",
       "\\item 35.13999818\n",
       "\\item 39.84000257\n",
       "\\item 40.65999885\n",
       "\\item 38.88999786\n",
       "\\item 36.23999975\n",
       "\\item 23.1300004\n",
       "\\item 37.5899983\n",
       "\\item 21.28999927\n",
       "\\item 13.43999951\n",
       "\\item 26.0182452611228\n",
       "\\item 29.04999924\n",
       "\\item 35.51999923\n",
       "\\item 5.420000304\n",
       "\\item 34.55999883\n",
       "\\item 44.64000038\n",
       "\\item 22.59000012\n",
       "\\item 44.9899975\n",
       "\\item 40.22999936\n",
       "\\item 12.97999965\n",
       "\\item 4.949999798\n",
       "\\end{enumerate*}\n"
      ],
      "text/markdown": [
       "1. 27.03999951\n",
       "2. 27.4199988\n",
       "3. 26.0182452611228\n",
       "4. 24.95999968\n",
       "5. 29.98999968\n",
       "6. 28.06999906\n",
       "7. 26.0182452611228\n",
       "8. 26.0182452611228\n",
       "9. 30.10000028\n",
       "10. 25.84999877\n",
       "11. 31.82999998\n",
       "12. 31.35000017\n",
       "13. 32.61000019\n",
       "14. 31.69999766\n",
       "15. 30.17999806\n",
       "16. 4.949999782\n",
       "17. 5.26000011\n",
       "18. 5.580000195\n",
       "19. 6.470000131\n",
       "20. 26.0182452611228\n",
       "21. 33.30000015\n",
       "22. 19.38999953\n",
       "23. 39.36999864\n",
       "24. 35.8099995\n",
       "25. 20.80000143\n",
       "26. 29.11000066\n",
       "27. 22.39999889\n",
       "28. 27.69000074\n",
       "29. 35.58000047\n",
       "30. 26.0182452611228\n",
       "31. 41.16000258\n",
       "32. 23.34000042\n",
       "33. 25.94000095\n",
       "34. 25.11000022\n",
       "35. 30.3899993\n",
       "36. 28.39999855\n",
       "37. 23.38000056\n",
       "38. 31.72999928\n",
       "39. 7.360000515\n",
       "40. 3.569999832\n",
       "41. 31.92999734\n",
       "42. 6.919999749\n",
       "43. 5.849999418\n",
       "44. 35.13999818\n",
       "45. 39.84000257\n",
       "46. 40.65999885\n",
       "47. 38.88999786\n",
       "48. 36.23999975\n",
       "49. 23.1300004\n",
       "50. 37.5899983\n",
       "51. 21.28999927\n",
       "52. 13.43999951\n",
       "53. 26.0182452611228\n",
       "54. 29.04999924\n",
       "55. 35.51999923\n",
       "56. 5.420000304\n",
       "57. 34.55999883\n",
       "58. 44.64000038\n",
       "59. 22.59000012\n",
       "60. 44.9899975\n",
       "61. 40.22999936\n",
       "62. 12.97999965\n",
       "63. 4.949999798\n",
       "\n",
       "\n"
      ],
      "text/plain": [
       " [1] 27.040000 27.419999 26.018245 24.960000 29.990000 28.069999 26.018245\n",
       " [8] 26.018245 30.100000 25.849999 31.830000 31.350000 32.610000 31.699998\n",
       "[15] 30.179998  4.950000  5.260000  5.580000  6.470000 26.018245 33.300000\n",
       "[22] 19.390000 39.369999 35.810000 20.800001 29.110001 22.399999 27.690001\n",
       "[29] 35.580000 26.018245 41.160003 23.340000 25.940001 25.110000 30.389999\n",
       "[36] 28.399999 23.380001 31.729999  7.360001  3.570000 31.929997  6.920000\n",
       "[43]  5.849999 35.139998 39.840003 40.659999 38.889998 36.240000 23.130000\n",
       "[50] 37.589998 21.289999 13.440000 26.018245 29.049999 35.519999  5.420000\n",
       "[57] 34.559999 44.640000 22.590000 44.989998 40.229999 12.980000  4.950000"
      ]
     },
     "metadata": {},
     "output_type": "display_data"
    }
   ],
   "source": [
    "data$height"
   ]
  },
  {
   "cell_type": "code",
   "execution_count": 73,
   "metadata": {
    "vscode": {
     "languageId": "r"
    }
   },
   "outputs": [
    {
     "data": {
      "text/html": [
       "<style>\n",
       ".list-inline {list-style: none; margin:0; padding: 0}\n",
       ".list-inline>li {display: inline-block}\n",
       ".list-inline>li:not(:last-child)::after {content: \"\\00b7\"; padding: 0 .5ex}\n",
       "</style>\n",
       "<ol class=list-inline><li>27.04</li><li>27.42</li><li>26.018</li><li>24.96</li><li>29.99</li><li>28.07</li><li>26.018</li><li>26.018</li><li>30.1</li><li>25.85</li><li>31.83</li><li>31.35</li><li>32.61</li><li>31.7</li><li>30.18</li><li>4.95</li><li>5.26</li><li>5.58</li><li>6.47</li><li>26.018</li><li>33.3</li><li>19.39</li><li>39.37</li><li>35.81</li><li>20.8</li><li>29.11</li><li>22.4</li><li>27.69</li><li>35.58</li><li>26.018</li><li>41.16</li><li>23.34</li><li>25.94</li><li>25.11</li><li>30.39</li><li>28.4</li><li>23.38</li><li>31.73</li><li>7.36</li><li>3.57</li><li>31.93</li><li>6.92</li><li>5.85</li><li>35.14</li><li>39.84</li><li>40.66</li><li>38.89</li><li>36.24</li><li>23.13</li><li>37.59</li><li>21.29</li><li>13.44</li><li>26.018</li><li>29.05</li><li>35.52</li><li>5.42</li><li>34.56</li><li>44.64</li><li>22.59</li><li>44.99</li><li>40.23</li><li>12.98</li><li>4.95</li></ol>\n"
      ],
      "text/latex": [
       "\\begin{enumerate*}\n",
       "\\item 27.04\n",
       "\\item 27.42\n",
       "\\item 26.018\n",
       "\\item 24.96\n",
       "\\item 29.99\n",
       "\\item 28.07\n",
       "\\item 26.018\n",
       "\\item 26.018\n",
       "\\item 30.1\n",
       "\\item 25.85\n",
       "\\item 31.83\n",
       "\\item 31.35\n",
       "\\item 32.61\n",
       "\\item 31.7\n",
       "\\item 30.18\n",
       "\\item 4.95\n",
       "\\item 5.26\n",
       "\\item 5.58\n",
       "\\item 6.47\n",
       "\\item 26.018\n",
       "\\item 33.3\n",
       "\\item 19.39\n",
       "\\item 39.37\n",
       "\\item 35.81\n",
       "\\item 20.8\n",
       "\\item 29.11\n",
       "\\item 22.4\n",
       "\\item 27.69\n",
       "\\item 35.58\n",
       "\\item 26.018\n",
       "\\item 41.16\n",
       "\\item 23.34\n",
       "\\item 25.94\n",
       "\\item 25.11\n",
       "\\item 30.39\n",
       "\\item 28.4\n",
       "\\item 23.38\n",
       "\\item 31.73\n",
       "\\item 7.36\n",
       "\\item 3.57\n",
       "\\item 31.93\n",
       "\\item 6.92\n",
       "\\item 5.85\n",
       "\\item 35.14\n",
       "\\item 39.84\n",
       "\\item 40.66\n",
       "\\item 38.89\n",
       "\\item 36.24\n",
       "\\item 23.13\n",
       "\\item 37.59\n",
       "\\item 21.29\n",
       "\\item 13.44\n",
       "\\item 26.018\n",
       "\\item 29.05\n",
       "\\item 35.52\n",
       "\\item 5.42\n",
       "\\item 34.56\n",
       "\\item 44.64\n",
       "\\item 22.59\n",
       "\\item 44.99\n",
       "\\item 40.23\n",
       "\\item 12.98\n",
       "\\item 4.95\n",
       "\\end{enumerate*}\n"
      ],
      "text/markdown": [
       "1. 27.04\n",
       "2. 27.42\n",
       "3. 26.018\n",
       "4. 24.96\n",
       "5. 29.99\n",
       "6. 28.07\n",
       "7. 26.018\n",
       "8. 26.018\n",
       "9. 30.1\n",
       "10. 25.85\n",
       "11. 31.83\n",
       "12. 31.35\n",
       "13. 32.61\n",
       "14. 31.7\n",
       "15. 30.18\n",
       "16. 4.95\n",
       "17. 5.26\n",
       "18. 5.58\n",
       "19. 6.47\n",
       "20. 26.018\n",
       "21. 33.3\n",
       "22. 19.39\n",
       "23. 39.37\n",
       "24. 35.81\n",
       "25. 20.8\n",
       "26. 29.11\n",
       "27. 22.4\n",
       "28. 27.69\n",
       "29. 35.58\n",
       "30. 26.018\n",
       "31. 41.16\n",
       "32. 23.34\n",
       "33. 25.94\n",
       "34. 25.11\n",
       "35. 30.39\n",
       "36. 28.4\n",
       "37. 23.38\n",
       "38. 31.73\n",
       "39. 7.36\n",
       "40. 3.57\n",
       "41. 31.93\n",
       "42. 6.92\n",
       "43. 5.85\n",
       "44. 35.14\n",
       "45. 39.84\n",
       "46. 40.66\n",
       "47. 38.89\n",
       "48. 36.24\n",
       "49. 23.13\n",
       "50. 37.59\n",
       "51. 21.29\n",
       "52. 13.44\n",
       "53. 26.018\n",
       "54. 29.05\n",
       "55. 35.52\n",
       "56. 5.42\n",
       "57. 34.56\n",
       "58. 44.64\n",
       "59. 22.59\n",
       "60. 44.99\n",
       "61. 40.23\n",
       "62. 12.98\n",
       "63. 4.95\n",
       "\n",
       "\n"
      ],
      "text/plain": [
       " [1] 27.040 27.420 26.018 24.960 29.990 28.070 26.018 26.018 30.100 25.850\n",
       "[11] 31.830 31.350 32.610 31.700 30.180  4.950  5.260  5.580  6.470 26.018\n",
       "[21] 33.300 19.390 39.370 35.810 20.800 29.110 22.400 27.690 35.580 26.018\n",
       "[31] 41.160 23.340 25.940 25.110 30.390 28.400 23.380 31.730  7.360  3.570\n",
       "[41] 31.930  6.920  5.850 35.140 39.840 40.660 38.890 36.240 23.130 37.590\n",
       "[51] 21.290 13.440 26.018 29.050 35.520  5.420 34.560 44.640 22.590 44.990\n",
       "[61] 40.230 12.980  4.950"
      ]
     },
     "metadata": {},
     "output_type": "display_data"
    }
   ],
   "source": [
    "# round values\n",
    "data$height <- round(data$height, 3)\n",
    "data$height"
   ]
  },
  {
   "cell_type": "code",
   "execution_count": 74,
   "metadata": {
    "vscode": {
     "languageId": "r"
    }
   },
   "outputs": [
    {
     "data": {
      "text/html": [
       "<style>\n",
       ".dl-inline {width: auto; margin:0; padding: 0}\n",
       ".dl-inline>dt, .dl-inline>dd {float: none; width: auto; display: inline-block}\n",
       ".dl-inline>dt::after {content: \":\\0020\"; padding-right: .5ex}\n",
       ".dl-inline>dt:not(:first-of-type) {padding-left: .5ex}\n",
       "</style><dl class=dl-inline><dt>species</dt><dd>0</dd><dt>diameter</dt><dd>0</dd><dt>height</dt><dd>0</dd><dt>leafarea</dt><dd>0</dd><dt>branchmass</dt><dd>0</dd></dl>\n"
      ],
      "text/latex": [
       "\\begin{description*}\n",
       "\\item[species] 0\n",
       "\\item[diameter] 0\n",
       "\\item[height] 0\n",
       "\\item[leafarea] 0\n",
       "\\item[branchmass] 0\n",
       "\\end{description*}\n"
      ],
      "text/markdown": [
       "species\n",
       ":   0diameter\n",
       ":   0height\n",
       ":   0leafarea\n",
       ":   0branchmass\n",
       ":   0\n",
       "\n"
      ],
      "text/plain": [
       "   species   diameter     height   leafarea branchmass \n",
       "         0          0          0          0          0 "
      ]
     },
     "metadata": {},
     "output_type": "display_data"
    }
   ],
   "source": [
    "# chekck msissing data again\n",
    "colSums(is.na(data))"
   ]
  },
  {
   "attachments": {},
   "cell_type": "markdown",
   "metadata": {},
   "source": [
    "order the data by height"
   ]
  },
  {
   "cell_type": "code",
   "execution_count": 75,
   "metadata": {
    "vscode": {
     "languageId": "r"
    }
   },
   "outputs": [],
   "source": [
    "# order height\n",
    "data <- data[order(data$height), ]"
   ]
  },
  {
   "cell_type": "code",
   "execution_count": 66,
   "metadata": {
    "vscode": {
     "languageId": "r"
    }
   },
   "outputs": [
    {
     "data": {
      "text/html": [
       "<table class=\"dataframe\">\n",
       "<caption>A data.frame: 6 × 5</caption>\n",
       "<thead>\n",
       "\t<tr><th></th><th scope=col>species</th><th scope=col>diameter</th><th scope=col>height</th><th scope=col>leafarea</th><th scope=col>branchmass</th></tr>\n",
       "\t<tr><th></th><th scope=col>&lt;chr&gt;</th><th scope=col>&lt;dbl&gt;</th><th scope=col>&lt;dbl&gt;</th><th scope=col>&lt;dbl&gt;</th><th scope=col>&lt;dbl&gt;</th></tr>\n",
       "</thead>\n",
       "<tbody>\n",
       "\t<tr><th scope=row>40</th><td>PIPO</td><td>4.83</td><td>3.57</td><td> 2.636336</td><td>1.77810</td></tr>\n",
       "\t<tr><th scope=row>16</th><td>PSME</td><td>5.33</td><td>4.95</td><td> 4.851567</td><td>2.67065</td></tr>\n",
       "\t<tr><th scope=row>63</th><td>PIMO</td><td>8.38</td><td>4.95</td><td> 6.551044</td><td>4.36969</td></tr>\n",
       "\t<tr><th scope=row>17</th><td>PSME</td><td>6.10</td><td>5.26</td><td> 7.595163</td><td>3.57145</td></tr>\n",
       "\t<tr><th scope=row>56</th><td>PIMO</td><td>6.48</td><td>5.42</td><td> 7.650902</td><td>3.50621</td></tr>\n",
       "\t<tr><th scope=row>18</th><td>PSME</td><td>7.37</td><td>5.58</td><td>11.502851</td><td>4.58916</td></tr>\n",
       "</tbody>\n",
       "</table>\n"
      ],
      "text/latex": [
       "A data.frame: 6 × 5\n",
       "\\begin{tabular}{r|lllll}\n",
       "  & species & diameter & height & leafarea & branchmass\\\\\n",
       "  & <chr> & <dbl> & <dbl> & <dbl> & <dbl>\\\\\n",
       "\\hline\n",
       "\t40 & PIPO & 4.83 & 3.57 &  2.636336 & 1.77810\\\\\n",
       "\t16 & PSME & 5.33 & 4.95 &  4.851567 & 2.67065\\\\\n",
       "\t63 & PIMO & 8.38 & 4.95 &  6.551044 & 4.36969\\\\\n",
       "\t17 & PSME & 6.10 & 5.26 &  7.595163 & 3.57145\\\\\n",
       "\t56 & PIMO & 6.48 & 5.42 &  7.650902 & 3.50621\\\\\n",
       "\t18 & PSME & 7.37 & 5.58 & 11.502851 & 4.58916\\\\\n",
       "\\end{tabular}\n"
      ],
      "text/markdown": [
       "\n",
       "A data.frame: 6 × 5\n",
       "\n",
       "| <!--/--> | species &lt;chr&gt; | diameter &lt;dbl&gt; | height &lt;dbl&gt; | leafarea &lt;dbl&gt; | branchmass &lt;dbl&gt; |\n",
       "|---|---|---|---|---|---|\n",
       "| 40 | PIPO | 4.83 | 3.57 |  2.636336 | 1.77810 |\n",
       "| 16 | PSME | 5.33 | 4.95 |  4.851567 | 2.67065 |\n",
       "| 63 | PIMO | 8.38 | 4.95 |  6.551044 | 4.36969 |\n",
       "| 17 | PSME | 6.10 | 5.26 |  7.595163 | 3.57145 |\n",
       "| 56 | PIMO | 6.48 | 5.42 |  7.650902 | 3.50621 |\n",
       "| 18 | PSME | 7.37 | 5.58 | 11.502851 | 4.58916 |\n",
       "\n"
      ],
      "text/plain": [
       "   species diameter height leafarea  branchmass\n",
       "40 PIPO    4.83     3.57    2.636336 1.77810   \n",
       "16 PSME    5.33     4.95    4.851567 2.67065   \n",
       "63 PIMO    8.38     4.95    6.551044 4.36969   \n",
       "17 PSME    6.10     5.26    7.595163 3.57145   \n",
       "56 PIMO    6.48     5.42    7.650902 3.50621   \n",
       "18 PSME    7.37     5.58   11.502851 4.58916   "
      ]
     },
     "metadata": {},
     "output_type": "display_data"
    }
   ],
   "source": [
    "head(data)"
   ]
  },
  {
   "attachments": {},
   "cell_type": "markdown",
   "metadata": {},
   "source": [
    "changeing row number to be clear"
   ]
  },
  {
   "cell_type": "code",
   "execution_count": 76,
   "metadata": {
    "vscode": {
     "languageId": "r"
    }
   },
   "outputs": [
    {
     "data": {
      "text/html": [
       "<table class=\"dataframe\">\n",
       "<caption>A data.frame: 6 × 5</caption>\n",
       "<thead>\n",
       "\t<tr><th></th><th scope=col>species</th><th scope=col>diameter</th><th scope=col>height</th><th scope=col>leafarea</th><th scope=col>branchmass</th></tr>\n",
       "\t<tr><th></th><th scope=col>&lt;chr&gt;</th><th scope=col>&lt;dbl&gt;</th><th scope=col>&lt;dbl&gt;</th><th scope=col>&lt;dbl&gt;</th><th scope=col>&lt;dbl&gt;</th></tr>\n",
       "</thead>\n",
       "<tbody>\n",
       "\t<tr><th scope=row>item-1</th><td>PIPO</td><td>4.83</td><td>3.57</td><td> 2.636336</td><td>1.77810</td></tr>\n",
       "\t<tr><th scope=row>item-2</th><td>PSME</td><td>5.33</td><td>4.95</td><td> 4.851567</td><td>2.67065</td></tr>\n",
       "\t<tr><th scope=row>item-3</th><td>PIMO</td><td>8.38</td><td>4.95</td><td> 6.551044</td><td>4.36969</td></tr>\n",
       "\t<tr><th scope=row>item-4</th><td>PSME</td><td>6.10</td><td>5.26</td><td> 7.595163</td><td>3.57145</td></tr>\n",
       "\t<tr><th scope=row>item-5</th><td>PIMO</td><td>6.48</td><td>5.42</td><td> 7.650902</td><td>3.50621</td></tr>\n",
       "\t<tr><th scope=row>item-6</th><td>PSME</td><td>7.37</td><td>5.58</td><td>11.502851</td><td>4.58916</td></tr>\n",
       "</tbody>\n",
       "</table>\n"
      ],
      "text/latex": [
       "A data.frame: 6 × 5\n",
       "\\begin{tabular}{r|lllll}\n",
       "  & species & diameter & height & leafarea & branchmass\\\\\n",
       "  & <chr> & <dbl> & <dbl> & <dbl> & <dbl>\\\\\n",
       "\\hline\n",
       "\titem-1 & PIPO & 4.83 & 3.57 &  2.636336 & 1.77810\\\\\n",
       "\titem-2 & PSME & 5.33 & 4.95 &  4.851567 & 2.67065\\\\\n",
       "\titem-3 & PIMO & 8.38 & 4.95 &  6.551044 & 4.36969\\\\\n",
       "\titem-4 & PSME & 6.10 & 5.26 &  7.595163 & 3.57145\\\\\n",
       "\titem-5 & PIMO & 6.48 & 5.42 &  7.650902 & 3.50621\\\\\n",
       "\titem-6 & PSME & 7.37 & 5.58 & 11.502851 & 4.58916\\\\\n",
       "\\end{tabular}\n"
      ],
      "text/markdown": [
       "\n",
       "A data.frame: 6 × 5\n",
       "\n",
       "| <!--/--> | species &lt;chr&gt; | diameter &lt;dbl&gt; | height &lt;dbl&gt; | leafarea &lt;dbl&gt; | branchmass &lt;dbl&gt; |\n",
       "|---|---|---|---|---|---|\n",
       "| item-1 | PIPO | 4.83 | 3.57 |  2.636336 | 1.77810 |\n",
       "| item-2 | PSME | 5.33 | 4.95 |  4.851567 | 2.67065 |\n",
       "| item-3 | PIMO | 8.38 | 4.95 |  6.551044 | 4.36969 |\n",
       "| item-4 | PSME | 6.10 | 5.26 |  7.595163 | 3.57145 |\n",
       "| item-5 | PIMO | 6.48 | 5.42 |  7.650902 | 3.50621 |\n",
       "| item-6 | PSME | 7.37 | 5.58 | 11.502851 | 4.58916 |\n",
       "\n"
      ],
      "text/plain": [
       "       species diameter height leafarea  branchmass\n",
       "item-1 PIPO    4.83     3.57    2.636336 1.77810   \n",
       "item-2 PSME    5.33     4.95    4.851567 2.67065   \n",
       "item-3 PIMO    8.38     4.95    6.551044 4.36969   \n",
       "item-4 PSME    6.10     5.26    7.595163 3.57145   \n",
       "item-5 PIMO    6.48     5.42    7.650902 3.50621   \n",
       "item-6 PSME    7.37     5.58   11.502851 4.58916   "
      ]
     },
     "metadata": {},
     "output_type": "display_data"
    }
   ],
   "source": [
    "# change rownames\n",
    "rownames(data) <- paste0('item-', 1:nrow(data))\n",
    "head(data)"
   ]
  },
  {
   "attachments": {},
   "cell_type": "markdown",
   "metadata": {},
   "source": [
    "## data slicing"
   ]
  },
  {
   "cell_type": "code",
   "execution_count": 79,
   "metadata": {
    "vscode": {
     "languageId": "r"
    }
   },
   "outputs": [
    {
     "data": {
      "text/html": [
       "<table class=\"dataframe\">\n",
       "<caption>A data.frame: 1 × 5</caption>\n",
       "<thead>\n",
       "\t<tr><th></th><th scope=col>species</th><th scope=col>diameter</th><th scope=col>height</th><th scope=col>leafarea</th><th scope=col>branchmass</th></tr>\n",
       "\t<tr><th></th><th scope=col>&lt;chr&gt;</th><th scope=col>&lt;dbl&gt;</th><th scope=col>&lt;dbl&gt;</th><th scope=col>&lt;dbl&gt;</th><th scope=col>&lt;dbl&gt;</th></tr>\n",
       "</thead>\n",
       "<tbody>\n",
       "\t<tr><th scope=row>item-1</th><td>PIPO</td><td>4.83</td><td>3.57</td><td>2.636336</td><td>1.7781</td></tr>\n",
       "</tbody>\n",
       "</table>\n"
      ],
      "text/latex": [
       "A data.frame: 1 × 5\n",
       "\\begin{tabular}{r|lllll}\n",
       "  & species & diameter & height & leafarea & branchmass\\\\\n",
       "  & <chr> & <dbl> & <dbl> & <dbl> & <dbl>\\\\\n",
       "\\hline\n",
       "\titem-1 & PIPO & 4.83 & 3.57 & 2.636336 & 1.7781\\\\\n",
       "\\end{tabular}\n"
      ],
      "text/markdown": [
       "\n",
       "A data.frame: 1 × 5\n",
       "\n",
       "| <!--/--> | species &lt;chr&gt; | diameter &lt;dbl&gt; | height &lt;dbl&gt; | leafarea &lt;dbl&gt; | branchmass &lt;dbl&gt; |\n",
       "|---|---|---|---|---|---|\n",
       "| item-1 | PIPO | 4.83 | 3.57 | 2.636336 | 1.7781 |\n",
       "\n"
      ],
      "text/plain": [
       "       species diameter height leafarea branchmass\n",
       "item-1 PIPO    4.83     3.57   2.636336 1.7781    "
      ]
     },
     "metadata": {},
     "output_type": "display_data"
    },
    {
     "data": {
      "text/html": [
       "<style>\n",
       ".list-inline {list-style: none; margin:0; padding: 0}\n",
       ".list-inline>li {display: inline-block}\n",
       ".list-inline>li:not(:last-child)::after {content: \"\\00b7\"; padding: 0 .5ex}\n",
       "</style>\n",
       "<ol class=list-inline><li>'PIPO'</li><li>'PSME'</li><li>'PIMO'</li><li>'PSME'</li><li>'PIMO'</li><li>'PSME'</li><li>'PIPO'</li><li>'PSME'</li><li>'PIPO'</li><li>'PIPO'</li><li>'PIMO'</li><li>'PIMO'</li><li>'PSME'</li><li>'PIPO'</li><li>'PIMO'</li><li>'PIPO'</li><li>'PIMO'</li><li>'PIMO'</li><li>'PIPO'</li><li>'PIPO'</li><li>'PSME'</li><li>'PIPO'</li><li>'PSME'</li><li>'PIPO'</li><li>'PSME'</li><li>'PSME'</li><li>'PSME'</li><li>'PSME'</li><li>'PIPO'</li><li>'PIMO'</li><li>'PSME'</li><li>'PSME'</li><li>'PIPO'</li><li>'PSME'</li><li>'PIPO'</li><li>'PIMO'</li><li>'PIPO'</li><li>'PSME'</li><li>'PSME'</li><li>'PSME'</li><li>'PIPO'</li><li>'PSME'</li><li>'PSME'</li><li>'PIPO'</li><li>'PSME'</li><li>'PIPO'</li><li>'PSME'</li><li>'PSME'</li><li>'PIMO'</li><li>'PIPO'</li><li>'PIMO'</li><li>'PIPO'</li><li>'PIPO'</li><li>'PIMO'</li><li>'PIMO'</li><li>'PIMO'</li><li>'PIPO'</li><li>'PIMO'</li><li>'PIMO'</li><li>'PIMO'</li><li>'PIPO'</li><li>'PIMO'</li><li>'PIMO'</li></ol>\n"
      ],
      "text/latex": [
       "\\begin{enumerate*}\n",
       "\\item 'PIPO'\n",
       "\\item 'PSME'\n",
       "\\item 'PIMO'\n",
       "\\item 'PSME'\n",
       "\\item 'PIMO'\n",
       "\\item 'PSME'\n",
       "\\item 'PIPO'\n",
       "\\item 'PSME'\n",
       "\\item 'PIPO'\n",
       "\\item 'PIPO'\n",
       "\\item 'PIMO'\n",
       "\\item 'PIMO'\n",
       "\\item 'PSME'\n",
       "\\item 'PIPO'\n",
       "\\item 'PIMO'\n",
       "\\item 'PIPO'\n",
       "\\item 'PIMO'\n",
       "\\item 'PIMO'\n",
       "\\item 'PIPO'\n",
       "\\item 'PIPO'\n",
       "\\item 'PSME'\n",
       "\\item 'PIPO'\n",
       "\\item 'PSME'\n",
       "\\item 'PIPO'\n",
       "\\item 'PSME'\n",
       "\\item 'PSME'\n",
       "\\item 'PSME'\n",
       "\\item 'PSME'\n",
       "\\item 'PIPO'\n",
       "\\item 'PIMO'\n",
       "\\item 'PSME'\n",
       "\\item 'PSME'\n",
       "\\item 'PIPO'\n",
       "\\item 'PSME'\n",
       "\\item 'PIPO'\n",
       "\\item 'PIMO'\n",
       "\\item 'PIPO'\n",
       "\\item 'PSME'\n",
       "\\item 'PSME'\n",
       "\\item 'PSME'\n",
       "\\item 'PIPO'\n",
       "\\item 'PSME'\n",
       "\\item 'PSME'\n",
       "\\item 'PIPO'\n",
       "\\item 'PSME'\n",
       "\\item 'PIPO'\n",
       "\\item 'PSME'\n",
       "\\item 'PSME'\n",
       "\\item 'PIMO'\n",
       "\\item 'PIPO'\n",
       "\\item 'PIMO'\n",
       "\\item 'PIPO'\n",
       "\\item 'PIPO'\n",
       "\\item 'PIMO'\n",
       "\\item 'PIMO'\n",
       "\\item 'PIMO'\n",
       "\\item 'PIPO'\n",
       "\\item 'PIMO'\n",
       "\\item 'PIMO'\n",
       "\\item 'PIMO'\n",
       "\\item 'PIPO'\n",
       "\\item 'PIMO'\n",
       "\\item 'PIMO'\n",
       "\\end{enumerate*}\n"
      ],
      "text/markdown": [
       "1. 'PIPO'\n",
       "2. 'PSME'\n",
       "3. 'PIMO'\n",
       "4. 'PSME'\n",
       "5. 'PIMO'\n",
       "6. 'PSME'\n",
       "7. 'PIPO'\n",
       "8. 'PSME'\n",
       "9. 'PIPO'\n",
       "10. 'PIPO'\n",
       "11. 'PIMO'\n",
       "12. 'PIMO'\n",
       "13. 'PSME'\n",
       "14. 'PIPO'\n",
       "15. 'PIMO'\n",
       "16. 'PIPO'\n",
       "17. 'PIMO'\n",
       "18. 'PIMO'\n",
       "19. 'PIPO'\n",
       "20. 'PIPO'\n",
       "21. 'PSME'\n",
       "22. 'PIPO'\n",
       "23. 'PSME'\n",
       "24. 'PIPO'\n",
       "25. 'PSME'\n",
       "26. 'PSME'\n",
       "27. 'PSME'\n",
       "28. 'PSME'\n",
       "29. 'PIPO'\n",
       "30. 'PIMO'\n",
       "31. 'PSME'\n",
       "32. 'PSME'\n",
       "33. 'PIPO'\n",
       "34. 'PSME'\n",
       "35. 'PIPO'\n",
       "36. 'PIMO'\n",
       "37. 'PIPO'\n",
       "38. 'PSME'\n",
       "39. 'PSME'\n",
       "40. 'PSME'\n",
       "41. 'PIPO'\n",
       "42. 'PSME'\n",
       "43. 'PSME'\n",
       "44. 'PIPO'\n",
       "45. 'PSME'\n",
       "46. 'PIPO'\n",
       "47. 'PSME'\n",
       "48. 'PSME'\n",
       "49. 'PIMO'\n",
       "50. 'PIPO'\n",
       "51. 'PIMO'\n",
       "52. 'PIPO'\n",
       "53. 'PIPO'\n",
       "54. 'PIMO'\n",
       "55. 'PIMO'\n",
       "56. 'PIMO'\n",
       "57. 'PIPO'\n",
       "58. 'PIMO'\n",
       "59. 'PIMO'\n",
       "60. 'PIMO'\n",
       "61. 'PIPO'\n",
       "62. 'PIMO'\n",
       "63. 'PIMO'\n",
       "\n",
       "\n"
      ],
      "text/plain": [
       " [1] \"PIPO\" \"PSME\" \"PIMO\" \"PSME\" \"PIMO\" \"PSME\" \"PIPO\" \"PSME\" \"PIPO\" \"PIPO\"\n",
       "[11] \"PIMO\" \"PIMO\" \"PSME\" \"PIPO\" \"PIMO\" \"PIPO\" \"PIMO\" \"PIMO\" \"PIPO\" \"PIPO\"\n",
       "[21] \"PSME\" \"PIPO\" \"PSME\" \"PIPO\" \"PSME\" \"PSME\" \"PSME\" \"PSME\" \"PIPO\" \"PIMO\"\n",
       "[31] \"PSME\" \"PSME\" \"PIPO\" \"PSME\" \"PIPO\" \"PIMO\" \"PIPO\" \"PSME\" \"PSME\" \"PSME\"\n",
       "[41] \"PIPO\" \"PSME\" \"PSME\" \"PIPO\" \"PSME\" \"PIPO\" \"PSME\" \"PSME\" \"PIMO\" \"PIPO\"\n",
       "[51] \"PIMO\" \"PIPO\" \"PIPO\" \"PIMO\" \"PIMO\" \"PIMO\" \"PIPO\" \"PIMO\" \"PIMO\" \"PIMO\"\n",
       "[61] \"PIPO\" \"PIMO\" \"PIMO\""
      ]
     },
     "metadata": {},
     "output_type": "display_data"
    },
    {
     "data": {
      "text/html": [
       "'PIPO'"
      ],
      "text/latex": [
       "'PIPO'"
      ],
      "text/markdown": [
       "'PIPO'"
      ],
      "text/plain": [
       "[1] \"PIPO\""
      ]
     },
     "metadata": {},
     "output_type": "display_data"
    },
    {
     "data": {
      "text/html": [
       "<table class=\"dataframe\">\n",
       "<caption>A data.frame: 2 × 5</caption>\n",
       "<thead>\n",
       "\t<tr><th></th><th scope=col>species</th><th scope=col>diameter</th><th scope=col>height</th><th scope=col>leafarea</th><th scope=col>branchmass</th></tr>\n",
       "\t<tr><th></th><th scope=col>&lt;chr&gt;</th><th scope=col>&lt;dbl&gt;</th><th scope=col>&lt;dbl&gt;</th><th scope=col>&lt;dbl&gt;</th><th scope=col>&lt;dbl&gt;</th></tr>\n",
       "</thead>\n",
       "<tbody>\n",
       "\t<tr><th scope=row>item-1</th><td>PIPO</td><td>4.83</td><td>3.57</td><td>2.636336</td><td>1.77810</td></tr>\n",
       "\t<tr><th scope=row>item-2</th><td>PSME</td><td>5.33</td><td>4.95</td><td>4.851567</td><td>2.67065</td></tr>\n",
       "</tbody>\n",
       "</table>\n"
      ],
      "text/latex": [
       "A data.frame: 2 × 5\n",
       "\\begin{tabular}{r|lllll}\n",
       "  & species & diameter & height & leafarea & branchmass\\\\\n",
       "  & <chr> & <dbl> & <dbl> & <dbl> & <dbl>\\\\\n",
       "\\hline\n",
       "\titem-1 & PIPO & 4.83 & 3.57 & 2.636336 & 1.77810\\\\\n",
       "\titem-2 & PSME & 5.33 & 4.95 & 4.851567 & 2.67065\\\\\n",
       "\\end{tabular}\n"
      ],
      "text/markdown": [
       "\n",
       "A data.frame: 2 × 5\n",
       "\n",
       "| <!--/--> | species &lt;chr&gt; | diameter &lt;dbl&gt; | height &lt;dbl&gt; | leafarea &lt;dbl&gt; | branchmass &lt;dbl&gt; |\n",
       "|---|---|---|---|---|---|\n",
       "| item-1 | PIPO | 4.83 | 3.57 | 2.636336 | 1.77810 |\n",
       "| item-2 | PSME | 5.33 | 4.95 | 4.851567 | 2.67065 |\n",
       "\n"
      ],
      "text/plain": [
       "       species diameter height leafarea branchmass\n",
       "item-1 PIPO    4.83     3.57   2.636336 1.77810   \n",
       "item-2 PSME    5.33     4.95   4.851567 2.67065   "
      ]
     },
     "metadata": {},
     "output_type": "display_data"
    }
   ],
   "source": [
    "# slicing\n",
    "data[1,] # first row\n",
    "data[, 1] # first column\n",
    "data[1, 1] # first row, and first column\n",
    "data[c(1, 2), ] # rows 1, 2"
   ]
  },
  {
   "cell_type": "code",
   "execution_count": 80,
   "metadata": {
    "vscode": {
     "languageId": "r"
    }
   },
   "outputs": [
    {
     "data": {
      "text/html": [
       "<table class=\"dataframe\">\n",
       "<caption>A data.frame: 63 × 2</caption>\n",
       "<thead>\n",
       "\t<tr><th></th><th scope=col>height</th><th scope=col>leafarea</th></tr>\n",
       "\t<tr><th></th><th scope=col>&lt;dbl&gt;</th><th scope=col>&lt;dbl&gt;</th></tr>\n",
       "</thead>\n",
       "<tbody>\n",
       "\t<tr><th scope=row>item-1</th><td> 3.570</td><td>  2.636336</td></tr>\n",
       "\t<tr><th scope=row>item-2</th><td> 4.950</td><td>  4.851567</td></tr>\n",
       "\t<tr><th scope=row>item-3</th><td> 4.950</td><td>  6.551044</td></tr>\n",
       "\t<tr><th scope=row>item-4</th><td> 5.260</td><td>  7.595163</td></tr>\n",
       "\t<tr><th scope=row>item-5</th><td> 5.420</td><td>  7.650902</td></tr>\n",
       "\t<tr><th scope=row>item-6</th><td> 5.580</td><td> 11.502851</td></tr>\n",
       "\t<tr><th scope=row>item-7</th><td> 5.850</td><td> 14.493428</td></tr>\n",
       "\t<tr><th scope=row>item-8</th><td> 6.470</td><td> 25.380647</td></tr>\n",
       "\t<tr><th scope=row>item-9</th><td> 6.920</td><td> 15.476022</td></tr>\n",
       "\t<tr><th scope=row>item-10</th><td> 7.360</td><td> 22.365837</td></tr>\n",
       "\t<tr><th scope=row>item-11</th><td>12.980</td><td> 82.093031</td></tr>\n",
       "\t<tr><th scope=row>item-12</th><td>13.440</td><td> 18.855867</td></tr>\n",
       "\t<tr><th scope=row>item-13</th><td>19.390</td><td> 31.780702</td></tr>\n",
       "\t<tr><th scope=row>item-14</th><td>20.800</td><td> 91.538428</td></tr>\n",
       "\t<tr><th scope=row>item-15</th><td>21.290</td><td> 44.934469</td></tr>\n",
       "\t<tr><th scope=row>item-16</th><td>22.400</td><td> 99.736790</td></tr>\n",
       "\t<tr><th scope=row>item-17</th><td>22.590</td><td>131.856837</td></tr>\n",
       "\t<tr><th scope=row>item-18</th><td>23.130</td><td> 33.713580</td></tr>\n",
       "\t<tr><th scope=row>item-19</th><td>23.340</td><td>  9.806496</td></tr>\n",
       "\t<tr><th scope=row>item-20</th><td>23.380</td><td> 19.844680</td></tr>\n",
       "\t<tr><th scope=row>item-21</th><td>24.960</td><td> 86.350653</td></tr>\n",
       "\t<tr><th scope=row>item-22</th><td>25.110</td><td> 21.649603</td></tr>\n",
       "\t<tr><th scope=row>item-23</th><td>25.850</td><td> 45.020041</td></tr>\n",
       "\t<tr><th scope=row>item-24</th><td>25.940</td><td> 20.743280</td></tr>\n",
       "\t<tr><th scope=row>item-25</th><td>26.018</td><td>  3.958274</td></tr>\n",
       "\t<tr><th scope=row>item-26</th><td>26.018</td><td> 32.077794</td></tr>\n",
       "\t<tr><th scope=row>item-27</th><td>26.018</td><td>147.270523</td></tr>\n",
       "\t<tr><th scope=row>item-28</th><td>26.018</td><td> 65.698749</td></tr>\n",
       "\t<tr><th scope=row>item-29</th><td>26.018</td><td> 46.326060</td></tr>\n",
       "\t<tr><th scope=row>item-30</th><td>26.018</td><td>154.078625</td></tr>\n",
       "\t<tr><th scope=row>⋮</th><td>⋮</td><td>⋮</td></tr>\n",
       "\t<tr><th scope=row>item-34</th><td>28.07</td><td> 61.37277</td></tr>\n",
       "\t<tr><th scope=row>item-35</th><td>28.40</td><td> 54.26799</td></tr>\n",
       "\t<tr><th scope=row>item-36</th><td>29.05</td><td> 70.60280</td></tr>\n",
       "\t<tr><th scope=row>item-37</th><td>29.11</td><td> 90.45366</td></tr>\n",
       "\t<tr><th scope=row>item-38</th><td>29.99</td><td> 63.35091</td></tr>\n",
       "\t<tr><th scope=row>item-39</th><td>30.10</td><td>141.78733</td></tr>\n",
       "\t<tr><th scope=row>item-40</th><td>30.18</td><td>234.36878</td></tr>\n",
       "\t<tr><th scope=row>item-41</th><td>30.39</td><td> 66.63367</td></tr>\n",
       "\t<tr><th scope=row>item-42</th><td>31.35</td><td>349.05701</td></tr>\n",
       "\t<tr><th scope=row>item-43</th><td>31.70</td><td>319.50711</td></tr>\n",
       "\t<tr><th scope=row>item-44</th><td>31.73</td><td>131.72730</td></tr>\n",
       "\t<tr><th scope=row>item-45</th><td>31.83</td><td>145.80980</td></tr>\n",
       "\t<tr><th scope=row>item-46</th><td>31.93</td><td>411.16038</td></tr>\n",
       "\t<tr><th scope=row>item-47</th><td>32.61</td><td>176.02921</td></tr>\n",
       "\t<tr><th scope=row>item-48</th><td>33.30</td><td>160.83917</td></tr>\n",
       "\t<tr><th scope=row>item-49</th><td>34.56</td><td> 93.07201</td></tr>\n",
       "\t<tr><th scope=row>item-50</th><td>35.14</td><td>169.05364</td></tr>\n",
       "\t<tr><th scope=row>item-51</th><td>35.52</td><td>169.16384</td></tr>\n",
       "\t<tr><th scope=row>item-52</th><td>35.58</td><td> 68.15031</td></tr>\n",
       "\t<tr><th scope=row>item-53</th><td>35.81</td><td>253.30827</td></tr>\n",
       "\t<tr><th scope=row>item-54</th><td>36.24</td><td>103.67263</td></tr>\n",
       "\t<tr><th scope=row>item-55</th><td>37.59</td><td>116.15492</td></tr>\n",
       "\t<tr><th scope=row>item-56</th><td>38.89</td><td>417.20944</td></tr>\n",
       "\t<tr><th scope=row>item-57</th><td>39.37</td><td>189.73301</td></tr>\n",
       "\t<tr><th scope=row>item-58</th><td>39.84</td><td>139.65116</td></tr>\n",
       "\t<tr><th scope=row>item-59</th><td>40.23</td><td>212.44359</td></tr>\n",
       "\t<tr><th scope=row>item-60</th><td>40.66</td><td>376.30826</td></tr>\n",
       "\t<tr><th scope=row>item-61</th><td>41.16</td><td>160.99313</td></tr>\n",
       "\t<tr><th scope=row>item-62</th><td>44.64</td><td>277.49436</td></tr>\n",
       "\t<tr><th scope=row>item-63</th><td>44.99</td><td>121.42898</td></tr>\n",
       "</tbody>\n",
       "</table>\n"
      ],
      "text/latex": [
       "A data.frame: 63 × 2\n",
       "\\begin{tabular}{r|ll}\n",
       "  & height & leafarea\\\\\n",
       "  & <dbl> & <dbl>\\\\\n",
       "\\hline\n",
       "\titem-1 &  3.570 &   2.636336\\\\\n",
       "\titem-2 &  4.950 &   4.851567\\\\\n",
       "\titem-3 &  4.950 &   6.551044\\\\\n",
       "\titem-4 &  5.260 &   7.595163\\\\\n",
       "\titem-5 &  5.420 &   7.650902\\\\\n",
       "\titem-6 &  5.580 &  11.502851\\\\\n",
       "\titem-7 &  5.850 &  14.493428\\\\\n",
       "\titem-8 &  6.470 &  25.380647\\\\\n",
       "\titem-9 &  6.920 &  15.476022\\\\\n",
       "\titem-10 &  7.360 &  22.365837\\\\\n",
       "\titem-11 & 12.980 &  82.093031\\\\\n",
       "\titem-12 & 13.440 &  18.855867\\\\\n",
       "\titem-13 & 19.390 &  31.780702\\\\\n",
       "\titem-14 & 20.800 &  91.538428\\\\\n",
       "\titem-15 & 21.290 &  44.934469\\\\\n",
       "\titem-16 & 22.400 &  99.736790\\\\\n",
       "\titem-17 & 22.590 & 131.856837\\\\\n",
       "\titem-18 & 23.130 &  33.713580\\\\\n",
       "\titem-19 & 23.340 &   9.806496\\\\\n",
       "\titem-20 & 23.380 &  19.844680\\\\\n",
       "\titem-21 & 24.960 &  86.350653\\\\\n",
       "\titem-22 & 25.110 &  21.649603\\\\\n",
       "\titem-23 & 25.850 &  45.020041\\\\\n",
       "\titem-24 & 25.940 &  20.743280\\\\\n",
       "\titem-25 & 26.018 &   3.958274\\\\\n",
       "\titem-26 & 26.018 &  32.077794\\\\\n",
       "\titem-27 & 26.018 & 147.270523\\\\\n",
       "\titem-28 & 26.018 &  65.698749\\\\\n",
       "\titem-29 & 26.018 &  46.326060\\\\\n",
       "\titem-30 & 26.018 & 154.078625\\\\\n",
       "\t⋮ & ⋮ & ⋮\\\\\n",
       "\titem-34 & 28.07 &  61.37277\\\\\n",
       "\titem-35 & 28.40 &  54.26799\\\\\n",
       "\titem-36 & 29.05 &  70.60280\\\\\n",
       "\titem-37 & 29.11 &  90.45366\\\\\n",
       "\titem-38 & 29.99 &  63.35091\\\\\n",
       "\titem-39 & 30.10 & 141.78733\\\\\n",
       "\titem-40 & 30.18 & 234.36878\\\\\n",
       "\titem-41 & 30.39 &  66.63367\\\\\n",
       "\titem-42 & 31.35 & 349.05701\\\\\n",
       "\titem-43 & 31.70 & 319.50711\\\\\n",
       "\titem-44 & 31.73 & 131.72730\\\\\n",
       "\titem-45 & 31.83 & 145.80980\\\\\n",
       "\titem-46 & 31.93 & 411.16038\\\\\n",
       "\titem-47 & 32.61 & 176.02921\\\\\n",
       "\titem-48 & 33.30 & 160.83917\\\\\n",
       "\titem-49 & 34.56 &  93.07201\\\\\n",
       "\titem-50 & 35.14 & 169.05364\\\\\n",
       "\titem-51 & 35.52 & 169.16384\\\\\n",
       "\titem-52 & 35.58 &  68.15031\\\\\n",
       "\titem-53 & 35.81 & 253.30827\\\\\n",
       "\titem-54 & 36.24 & 103.67263\\\\\n",
       "\titem-55 & 37.59 & 116.15492\\\\\n",
       "\titem-56 & 38.89 & 417.20944\\\\\n",
       "\titem-57 & 39.37 & 189.73301\\\\\n",
       "\titem-58 & 39.84 & 139.65116\\\\\n",
       "\titem-59 & 40.23 & 212.44359\\\\\n",
       "\titem-60 & 40.66 & 376.30826\\\\\n",
       "\titem-61 & 41.16 & 160.99313\\\\\n",
       "\titem-62 & 44.64 & 277.49436\\\\\n",
       "\titem-63 & 44.99 & 121.42898\\\\\n",
       "\\end{tabular}\n"
      ],
      "text/markdown": [
       "\n",
       "A data.frame: 63 × 2\n",
       "\n",
       "| <!--/--> | height &lt;dbl&gt; | leafarea &lt;dbl&gt; |\n",
       "|---|---|---|\n",
       "| item-1 |  3.570 |   2.636336 |\n",
       "| item-2 |  4.950 |   4.851567 |\n",
       "| item-3 |  4.950 |   6.551044 |\n",
       "| item-4 |  5.260 |   7.595163 |\n",
       "| item-5 |  5.420 |   7.650902 |\n",
       "| item-6 |  5.580 |  11.502851 |\n",
       "| item-7 |  5.850 |  14.493428 |\n",
       "| item-8 |  6.470 |  25.380647 |\n",
       "| item-9 |  6.920 |  15.476022 |\n",
       "| item-10 |  7.360 |  22.365837 |\n",
       "| item-11 | 12.980 |  82.093031 |\n",
       "| item-12 | 13.440 |  18.855867 |\n",
       "| item-13 | 19.390 |  31.780702 |\n",
       "| item-14 | 20.800 |  91.538428 |\n",
       "| item-15 | 21.290 |  44.934469 |\n",
       "| item-16 | 22.400 |  99.736790 |\n",
       "| item-17 | 22.590 | 131.856837 |\n",
       "| item-18 | 23.130 |  33.713580 |\n",
       "| item-19 | 23.340 |   9.806496 |\n",
       "| item-20 | 23.380 |  19.844680 |\n",
       "| item-21 | 24.960 |  86.350653 |\n",
       "| item-22 | 25.110 |  21.649603 |\n",
       "| item-23 | 25.850 |  45.020041 |\n",
       "| item-24 | 25.940 |  20.743280 |\n",
       "| item-25 | 26.018 |   3.958274 |\n",
       "| item-26 | 26.018 |  32.077794 |\n",
       "| item-27 | 26.018 | 147.270523 |\n",
       "| item-28 | 26.018 |  65.698749 |\n",
       "| item-29 | 26.018 |  46.326060 |\n",
       "| item-30 | 26.018 | 154.078625 |\n",
       "| ⋮ | ⋮ | ⋮ |\n",
       "| item-34 | 28.07 |  61.37277 |\n",
       "| item-35 | 28.40 |  54.26799 |\n",
       "| item-36 | 29.05 |  70.60280 |\n",
       "| item-37 | 29.11 |  90.45366 |\n",
       "| item-38 | 29.99 |  63.35091 |\n",
       "| item-39 | 30.10 | 141.78733 |\n",
       "| item-40 | 30.18 | 234.36878 |\n",
       "| item-41 | 30.39 |  66.63367 |\n",
       "| item-42 | 31.35 | 349.05701 |\n",
       "| item-43 | 31.70 | 319.50711 |\n",
       "| item-44 | 31.73 | 131.72730 |\n",
       "| item-45 | 31.83 | 145.80980 |\n",
       "| item-46 | 31.93 | 411.16038 |\n",
       "| item-47 | 32.61 | 176.02921 |\n",
       "| item-48 | 33.30 | 160.83917 |\n",
       "| item-49 | 34.56 |  93.07201 |\n",
       "| item-50 | 35.14 | 169.05364 |\n",
       "| item-51 | 35.52 | 169.16384 |\n",
       "| item-52 | 35.58 |  68.15031 |\n",
       "| item-53 | 35.81 | 253.30827 |\n",
       "| item-54 | 36.24 | 103.67263 |\n",
       "| item-55 | 37.59 | 116.15492 |\n",
       "| item-56 | 38.89 | 417.20944 |\n",
       "| item-57 | 39.37 | 189.73301 |\n",
       "| item-58 | 39.84 | 139.65116 |\n",
       "| item-59 | 40.23 | 212.44359 |\n",
       "| item-60 | 40.66 | 376.30826 |\n",
       "| item-61 | 41.16 | 160.99313 |\n",
       "| item-62 | 44.64 | 277.49436 |\n",
       "| item-63 | 44.99 | 121.42898 |\n",
       "\n"
      ],
      "text/plain": [
       "        height leafarea  \n",
       "item-1   3.570   2.636336\n",
       "item-2   4.950   4.851567\n",
       "item-3   4.950   6.551044\n",
       "item-4   5.260   7.595163\n",
       "item-5   5.420   7.650902\n",
       "item-6   5.580  11.502851\n",
       "item-7   5.850  14.493428\n",
       "item-8   6.470  25.380647\n",
       "item-9   6.920  15.476022\n",
       "item-10  7.360  22.365837\n",
       "item-11 12.980  82.093031\n",
       "item-12 13.440  18.855867\n",
       "item-13 19.390  31.780702\n",
       "item-14 20.800  91.538428\n",
       "item-15 21.290  44.934469\n",
       "item-16 22.400  99.736790\n",
       "item-17 22.590 131.856837\n",
       "item-18 23.130  33.713580\n",
       "item-19 23.340   9.806496\n",
       "item-20 23.380  19.844680\n",
       "item-21 24.960  86.350653\n",
       "item-22 25.110  21.649603\n",
       "item-23 25.850  45.020041\n",
       "item-24 25.940  20.743280\n",
       "item-25 26.018   3.958274\n",
       "item-26 26.018  32.077794\n",
       "item-27 26.018 147.270523\n",
       "item-28 26.018  65.698749\n",
       "item-29 26.018  46.326060\n",
       "item-30 26.018 154.078625\n",
       "⋮       ⋮      ⋮         \n",
       "item-34 28.07   61.37277 \n",
       "item-35 28.40   54.26799 \n",
       "item-36 29.05   70.60280 \n",
       "item-37 29.11   90.45366 \n",
       "item-38 29.99   63.35091 \n",
       "item-39 30.10  141.78733 \n",
       "item-40 30.18  234.36878 \n",
       "item-41 30.39   66.63367 \n",
       "item-42 31.35  349.05701 \n",
       "item-43 31.70  319.50711 \n",
       "item-44 31.73  131.72730 \n",
       "item-45 31.83  145.80980 \n",
       "item-46 31.93  411.16038 \n",
       "item-47 32.61  176.02921 \n",
       "item-48 33.30  160.83917 \n",
       "item-49 34.56   93.07201 \n",
       "item-50 35.14  169.05364 \n",
       "item-51 35.52  169.16384 \n",
       "item-52 35.58   68.15031 \n",
       "item-53 35.81  253.30827 \n",
       "item-54 36.24  103.67263 \n",
       "item-55 37.59  116.15492 \n",
       "item-56 38.89  417.20944 \n",
       "item-57 39.37  189.73301 \n",
       "item-58 39.84  139.65116 \n",
       "item-59 40.23  212.44359 \n",
       "item-60 40.66  376.30826 \n",
       "item-61 41.16  160.99313 \n",
       "item-62 44.64  277.49436 \n",
       "item-63 44.99  121.42898 "
      ]
     },
     "metadata": {},
     "output_type": "display_data"
    }
   ],
   "source": [
    "data[, c(3, 4)] # columns 3, 4"
   ]
  },
  {
   "cell_type": "code",
   "execution_count": 81,
   "metadata": {
    "vscode": {
     "languageId": "r"
    }
   },
   "outputs": [
    {
     "data": {
      "text/html": [
       "<style>\n",
       ".list-inline {list-style: none; margin:0; padding: 0}\n",
       ".list-inline>li {display: inline-block}\n",
       ".list-inline>li:not(:last-child)::after {content: \"\\00b7\"; padding: 0 .5ex}\n",
       "</style>\n",
       "<ol class=list-inline><li>'PIPO'</li><li>'PSME'</li><li>'PIMO'</li><li>'PSME'</li><li>'PIMO'</li><li>'PSME'</li><li>'PIPO'</li><li>'PSME'</li><li>'PIPO'</li><li>'PIPO'</li><li>'PIMO'</li><li>'PIMO'</li><li>'PSME'</li><li>'PIPO'</li><li>'PIMO'</li><li>'PIPO'</li><li>'PIMO'</li><li>'PIMO'</li><li>'PIPO'</li><li>'PIPO'</li><li>'PSME'</li><li>'PIPO'</li><li>'PSME'</li><li>'PIPO'</li><li>'PSME'</li><li>'PSME'</li><li>'PSME'</li><li>'PSME'</li><li>'PIPO'</li><li>'PIMO'</li><li>'PSME'</li><li>'PSME'</li><li>'PIPO'</li><li>'PSME'</li><li>'PIPO'</li><li>'PIMO'</li><li>'PIPO'</li><li>'PSME'</li><li>'PSME'</li><li>'PSME'</li><li>'PIPO'</li><li>'PSME'</li><li>'PSME'</li><li>'PIPO'</li><li>'PSME'</li><li>'PIPO'</li><li>'PSME'</li><li>'PSME'</li><li>'PIMO'</li><li>'PIPO'</li><li>'PIMO'</li><li>'PIPO'</li><li>'PIPO'</li><li>'PIMO'</li><li>'PIMO'</li><li>'PIMO'</li><li>'PIPO'</li><li>'PIMO'</li><li>'PIMO'</li><li>'PIMO'</li><li>'PIPO'</li><li>'PIMO'</li><li>'PIMO'</li></ol>\n"
      ],
      "text/latex": [
       "\\begin{enumerate*}\n",
       "\\item 'PIPO'\n",
       "\\item 'PSME'\n",
       "\\item 'PIMO'\n",
       "\\item 'PSME'\n",
       "\\item 'PIMO'\n",
       "\\item 'PSME'\n",
       "\\item 'PIPO'\n",
       "\\item 'PSME'\n",
       "\\item 'PIPO'\n",
       "\\item 'PIPO'\n",
       "\\item 'PIMO'\n",
       "\\item 'PIMO'\n",
       "\\item 'PSME'\n",
       "\\item 'PIPO'\n",
       "\\item 'PIMO'\n",
       "\\item 'PIPO'\n",
       "\\item 'PIMO'\n",
       "\\item 'PIMO'\n",
       "\\item 'PIPO'\n",
       "\\item 'PIPO'\n",
       "\\item 'PSME'\n",
       "\\item 'PIPO'\n",
       "\\item 'PSME'\n",
       "\\item 'PIPO'\n",
       "\\item 'PSME'\n",
       "\\item 'PSME'\n",
       "\\item 'PSME'\n",
       "\\item 'PSME'\n",
       "\\item 'PIPO'\n",
       "\\item 'PIMO'\n",
       "\\item 'PSME'\n",
       "\\item 'PSME'\n",
       "\\item 'PIPO'\n",
       "\\item 'PSME'\n",
       "\\item 'PIPO'\n",
       "\\item 'PIMO'\n",
       "\\item 'PIPO'\n",
       "\\item 'PSME'\n",
       "\\item 'PSME'\n",
       "\\item 'PSME'\n",
       "\\item 'PIPO'\n",
       "\\item 'PSME'\n",
       "\\item 'PSME'\n",
       "\\item 'PIPO'\n",
       "\\item 'PSME'\n",
       "\\item 'PIPO'\n",
       "\\item 'PSME'\n",
       "\\item 'PSME'\n",
       "\\item 'PIMO'\n",
       "\\item 'PIPO'\n",
       "\\item 'PIMO'\n",
       "\\item 'PIPO'\n",
       "\\item 'PIPO'\n",
       "\\item 'PIMO'\n",
       "\\item 'PIMO'\n",
       "\\item 'PIMO'\n",
       "\\item 'PIPO'\n",
       "\\item 'PIMO'\n",
       "\\item 'PIMO'\n",
       "\\item 'PIMO'\n",
       "\\item 'PIPO'\n",
       "\\item 'PIMO'\n",
       "\\item 'PIMO'\n",
       "\\end{enumerate*}\n"
      ],
      "text/markdown": [
       "1. 'PIPO'\n",
       "2. 'PSME'\n",
       "3. 'PIMO'\n",
       "4. 'PSME'\n",
       "5. 'PIMO'\n",
       "6. 'PSME'\n",
       "7. 'PIPO'\n",
       "8. 'PSME'\n",
       "9. 'PIPO'\n",
       "10. 'PIPO'\n",
       "11. 'PIMO'\n",
       "12. 'PIMO'\n",
       "13. 'PSME'\n",
       "14. 'PIPO'\n",
       "15. 'PIMO'\n",
       "16. 'PIPO'\n",
       "17. 'PIMO'\n",
       "18. 'PIMO'\n",
       "19. 'PIPO'\n",
       "20. 'PIPO'\n",
       "21. 'PSME'\n",
       "22. 'PIPO'\n",
       "23. 'PSME'\n",
       "24. 'PIPO'\n",
       "25. 'PSME'\n",
       "26. 'PSME'\n",
       "27. 'PSME'\n",
       "28. 'PSME'\n",
       "29. 'PIPO'\n",
       "30. 'PIMO'\n",
       "31. 'PSME'\n",
       "32. 'PSME'\n",
       "33. 'PIPO'\n",
       "34. 'PSME'\n",
       "35. 'PIPO'\n",
       "36. 'PIMO'\n",
       "37. 'PIPO'\n",
       "38. 'PSME'\n",
       "39. 'PSME'\n",
       "40. 'PSME'\n",
       "41. 'PIPO'\n",
       "42. 'PSME'\n",
       "43. 'PSME'\n",
       "44. 'PIPO'\n",
       "45. 'PSME'\n",
       "46. 'PIPO'\n",
       "47. 'PSME'\n",
       "48. 'PSME'\n",
       "49. 'PIMO'\n",
       "50. 'PIPO'\n",
       "51. 'PIMO'\n",
       "52. 'PIPO'\n",
       "53. 'PIPO'\n",
       "54. 'PIMO'\n",
       "55. 'PIMO'\n",
       "56. 'PIMO'\n",
       "57. 'PIPO'\n",
       "58. 'PIMO'\n",
       "59. 'PIMO'\n",
       "60. 'PIMO'\n",
       "61. 'PIPO'\n",
       "62. 'PIMO'\n",
       "63. 'PIMO'\n",
       "\n",
       "\n"
      ],
      "text/plain": [
       " [1] \"PIPO\" \"PSME\" \"PIMO\" \"PSME\" \"PIMO\" \"PSME\" \"PIPO\" \"PSME\" \"PIPO\" \"PIPO\"\n",
       "[11] \"PIMO\" \"PIMO\" \"PSME\" \"PIPO\" \"PIMO\" \"PIPO\" \"PIMO\" \"PIMO\" \"PIPO\" \"PIPO\"\n",
       "[21] \"PSME\" \"PIPO\" \"PSME\" \"PIPO\" \"PSME\" \"PSME\" \"PSME\" \"PSME\" \"PIPO\" \"PIMO\"\n",
       "[31] \"PSME\" \"PSME\" \"PIPO\" \"PSME\" \"PIPO\" \"PIMO\" \"PIPO\" \"PSME\" \"PSME\" \"PSME\"\n",
       "[41] \"PIPO\" \"PSME\" \"PSME\" \"PIPO\" \"PSME\" \"PIPO\" \"PSME\" \"PSME\" \"PIMO\" \"PIPO\"\n",
       "[51] \"PIMO\" \"PIPO\" \"PIPO\" \"PIMO\" \"PIMO\" \"PIMO\" \"PIPO\" \"PIMO\" \"PIMO\" \"PIMO\"\n",
       "[61] \"PIPO\" \"PIMO\" \"PIMO\""
      ]
     },
     "metadata": {},
     "output_type": "display_data"
    },
    {
     "data": {
      "text/html": [
       "<style>\n",
       ".list-inline {list-style: none; margin:0; padding: 0}\n",
       ".list-inline>li {display: inline-block}\n",
       ".list-inline>li:not(:last-child)::after {content: \"\\00b7\"; padding: 0 .5ex}\n",
       "</style>\n",
       "<ol class=list-inline><li>'PIPO'</li><li>'PSME'</li><li>'PIMO'</li><li>'PSME'</li><li>'PIMO'</li><li>'PSME'</li><li>'PIPO'</li><li>'PSME'</li><li>'PIPO'</li><li>'PIPO'</li><li>'PIMO'</li><li>'PIMO'</li><li>'PSME'</li><li>'PIPO'</li><li>'PIMO'</li><li>'PIPO'</li><li>'PIMO'</li><li>'PIMO'</li><li>'PIPO'</li><li>'PIPO'</li><li>'PSME'</li><li>'PIPO'</li><li>'PSME'</li><li>'PIPO'</li><li>'PSME'</li><li>'PSME'</li><li>'PSME'</li><li>'PSME'</li><li>'PIPO'</li><li>'PIMO'</li><li>'PSME'</li><li>'PSME'</li><li>'PIPO'</li><li>'PSME'</li><li>'PIPO'</li><li>'PIMO'</li><li>'PIPO'</li><li>'PSME'</li><li>'PSME'</li><li>'PSME'</li><li>'PIPO'</li><li>'PSME'</li><li>'PSME'</li><li>'PIPO'</li><li>'PSME'</li><li>'PIPO'</li><li>'PSME'</li><li>'PSME'</li><li>'PIMO'</li><li>'PIPO'</li><li>'PIMO'</li><li>'PIPO'</li><li>'PIPO'</li><li>'PIMO'</li><li>'PIMO'</li><li>'PIMO'</li><li>'PIPO'</li><li>'PIMO'</li><li>'PIMO'</li><li>'PIMO'</li><li>'PIPO'</li><li>'PIMO'</li><li>'PIMO'</li></ol>\n"
      ],
      "text/latex": [
       "\\begin{enumerate*}\n",
       "\\item 'PIPO'\n",
       "\\item 'PSME'\n",
       "\\item 'PIMO'\n",
       "\\item 'PSME'\n",
       "\\item 'PIMO'\n",
       "\\item 'PSME'\n",
       "\\item 'PIPO'\n",
       "\\item 'PSME'\n",
       "\\item 'PIPO'\n",
       "\\item 'PIPO'\n",
       "\\item 'PIMO'\n",
       "\\item 'PIMO'\n",
       "\\item 'PSME'\n",
       "\\item 'PIPO'\n",
       "\\item 'PIMO'\n",
       "\\item 'PIPO'\n",
       "\\item 'PIMO'\n",
       "\\item 'PIMO'\n",
       "\\item 'PIPO'\n",
       "\\item 'PIPO'\n",
       "\\item 'PSME'\n",
       "\\item 'PIPO'\n",
       "\\item 'PSME'\n",
       "\\item 'PIPO'\n",
       "\\item 'PSME'\n",
       "\\item 'PSME'\n",
       "\\item 'PSME'\n",
       "\\item 'PSME'\n",
       "\\item 'PIPO'\n",
       "\\item 'PIMO'\n",
       "\\item 'PSME'\n",
       "\\item 'PSME'\n",
       "\\item 'PIPO'\n",
       "\\item 'PSME'\n",
       "\\item 'PIPO'\n",
       "\\item 'PIMO'\n",
       "\\item 'PIPO'\n",
       "\\item 'PSME'\n",
       "\\item 'PSME'\n",
       "\\item 'PSME'\n",
       "\\item 'PIPO'\n",
       "\\item 'PSME'\n",
       "\\item 'PSME'\n",
       "\\item 'PIPO'\n",
       "\\item 'PSME'\n",
       "\\item 'PIPO'\n",
       "\\item 'PSME'\n",
       "\\item 'PSME'\n",
       "\\item 'PIMO'\n",
       "\\item 'PIPO'\n",
       "\\item 'PIMO'\n",
       "\\item 'PIPO'\n",
       "\\item 'PIPO'\n",
       "\\item 'PIMO'\n",
       "\\item 'PIMO'\n",
       "\\item 'PIMO'\n",
       "\\item 'PIPO'\n",
       "\\item 'PIMO'\n",
       "\\item 'PIMO'\n",
       "\\item 'PIMO'\n",
       "\\item 'PIPO'\n",
       "\\item 'PIMO'\n",
       "\\item 'PIMO'\n",
       "\\end{enumerate*}\n"
      ],
      "text/markdown": [
       "1. 'PIPO'\n",
       "2. 'PSME'\n",
       "3. 'PIMO'\n",
       "4. 'PSME'\n",
       "5. 'PIMO'\n",
       "6. 'PSME'\n",
       "7. 'PIPO'\n",
       "8. 'PSME'\n",
       "9. 'PIPO'\n",
       "10. 'PIPO'\n",
       "11. 'PIMO'\n",
       "12. 'PIMO'\n",
       "13. 'PSME'\n",
       "14. 'PIPO'\n",
       "15. 'PIMO'\n",
       "16. 'PIPO'\n",
       "17. 'PIMO'\n",
       "18. 'PIMO'\n",
       "19. 'PIPO'\n",
       "20. 'PIPO'\n",
       "21. 'PSME'\n",
       "22. 'PIPO'\n",
       "23. 'PSME'\n",
       "24. 'PIPO'\n",
       "25. 'PSME'\n",
       "26. 'PSME'\n",
       "27. 'PSME'\n",
       "28. 'PSME'\n",
       "29. 'PIPO'\n",
       "30. 'PIMO'\n",
       "31. 'PSME'\n",
       "32. 'PSME'\n",
       "33. 'PIPO'\n",
       "34. 'PSME'\n",
       "35. 'PIPO'\n",
       "36. 'PIMO'\n",
       "37. 'PIPO'\n",
       "38. 'PSME'\n",
       "39. 'PSME'\n",
       "40. 'PSME'\n",
       "41. 'PIPO'\n",
       "42. 'PSME'\n",
       "43. 'PSME'\n",
       "44. 'PIPO'\n",
       "45. 'PSME'\n",
       "46. 'PIPO'\n",
       "47. 'PSME'\n",
       "48. 'PSME'\n",
       "49. 'PIMO'\n",
       "50. 'PIPO'\n",
       "51. 'PIMO'\n",
       "52. 'PIPO'\n",
       "53. 'PIPO'\n",
       "54. 'PIMO'\n",
       "55. 'PIMO'\n",
       "56. 'PIMO'\n",
       "57. 'PIPO'\n",
       "58. 'PIMO'\n",
       "59. 'PIMO'\n",
       "60. 'PIMO'\n",
       "61. 'PIPO'\n",
       "62. 'PIMO'\n",
       "63. 'PIMO'\n",
       "\n",
       "\n"
      ],
      "text/plain": [
       " [1] \"PIPO\" \"PSME\" \"PIMO\" \"PSME\" \"PIMO\" \"PSME\" \"PIPO\" \"PSME\" \"PIPO\" \"PIPO\"\n",
       "[11] \"PIMO\" \"PIMO\" \"PSME\" \"PIPO\" \"PIMO\" \"PIPO\" \"PIMO\" \"PIMO\" \"PIPO\" \"PIPO\"\n",
       "[21] \"PSME\" \"PIPO\" \"PSME\" \"PIPO\" \"PSME\" \"PSME\" \"PSME\" \"PSME\" \"PIPO\" \"PIMO\"\n",
       "[31] \"PSME\" \"PSME\" \"PIPO\" \"PSME\" \"PIPO\" \"PIMO\" \"PIPO\" \"PSME\" \"PSME\" \"PSME\"\n",
       "[41] \"PIPO\" \"PSME\" \"PSME\" \"PIPO\" \"PSME\" \"PIPO\" \"PSME\" \"PSME\" \"PIMO\" \"PIPO\"\n",
       "[51] \"PIMO\" \"PIPO\" \"PIPO\" \"PIMO\" \"PIMO\" \"PIMO\" \"PIPO\" \"PIMO\" \"PIMO\" \"PIMO\"\n",
       "[61] \"PIPO\" \"PIMO\" \"PIMO\""
      ]
     },
     "metadata": {},
     "output_type": "display_data"
    }
   ],
   "source": [
    "# access species column\n",
    "data[['species']]\n",
    "data$species"
   ]
  },
  {
   "cell_type": "code",
   "execution_count": 84,
   "metadata": {
    "vscode": {
     "languageId": "r"
    }
   },
   "outputs": [
    {
     "data": {
      "text/html": [
       "<table class=\"dataframe\">\n",
       "<caption>A data.frame: 6 × 6</caption>\n",
       "<thead>\n",
       "\t<tr><th></th><th scope=col>species</th><th scope=col>diameter</th><th scope=col>height</th><th scope=col>leafarea</th><th scope=col>branchmass</th><th scope=col>new_column</th></tr>\n",
       "\t<tr><th></th><th scope=col>&lt;chr&gt;</th><th scope=col>&lt;dbl&gt;</th><th scope=col>&lt;dbl&gt;</th><th scope=col>&lt;dbl&gt;</th><th scope=col>&lt;dbl&gt;</th><th scope=col>&lt;int&gt;</th></tr>\n",
       "</thead>\n",
       "<tbody>\n",
       "\t<tr><th scope=row>item-1</th><td>PIPO</td><td>4.83</td><td>3.57</td><td> 2.636336</td><td>1.77810</td><td>1</td></tr>\n",
       "\t<tr><th scope=row>item-2</th><td>PSME</td><td>5.33</td><td>4.95</td><td> 4.851567</td><td>2.67065</td><td>2</td></tr>\n",
       "\t<tr><th scope=row>item-3</th><td>PIMO</td><td>8.38</td><td>4.95</td><td> 6.551044</td><td>4.36969</td><td>3</td></tr>\n",
       "\t<tr><th scope=row>item-4</th><td>PSME</td><td>6.10</td><td>5.26</td><td> 7.595163</td><td>3.57145</td><td>4</td></tr>\n",
       "\t<tr><th scope=row>item-5</th><td>PIMO</td><td>6.48</td><td>5.42</td><td> 7.650902</td><td>3.50621</td><td>5</td></tr>\n",
       "\t<tr><th scope=row>item-6</th><td>PSME</td><td>7.37</td><td>5.58</td><td>11.502851</td><td>4.58916</td><td>6</td></tr>\n",
       "</tbody>\n",
       "</table>\n"
      ],
      "text/latex": [
       "A data.frame: 6 × 6\n",
       "\\begin{tabular}{r|llllll}\n",
       "  & species & diameter & height & leafarea & branchmass & new\\_column\\\\\n",
       "  & <chr> & <dbl> & <dbl> & <dbl> & <dbl> & <int>\\\\\n",
       "\\hline\n",
       "\titem-1 & PIPO & 4.83 & 3.57 &  2.636336 & 1.77810 & 1\\\\\n",
       "\titem-2 & PSME & 5.33 & 4.95 &  4.851567 & 2.67065 & 2\\\\\n",
       "\titem-3 & PIMO & 8.38 & 4.95 &  6.551044 & 4.36969 & 3\\\\\n",
       "\titem-4 & PSME & 6.10 & 5.26 &  7.595163 & 3.57145 & 4\\\\\n",
       "\titem-5 & PIMO & 6.48 & 5.42 &  7.650902 & 3.50621 & 5\\\\\n",
       "\titem-6 & PSME & 7.37 & 5.58 & 11.502851 & 4.58916 & 6\\\\\n",
       "\\end{tabular}\n"
      ],
      "text/markdown": [
       "\n",
       "A data.frame: 6 × 6\n",
       "\n",
       "| <!--/--> | species &lt;chr&gt; | diameter &lt;dbl&gt; | height &lt;dbl&gt; | leafarea &lt;dbl&gt; | branchmass &lt;dbl&gt; | new_column &lt;int&gt; |\n",
       "|---|---|---|---|---|---|---|\n",
       "| item-1 | PIPO | 4.83 | 3.57 |  2.636336 | 1.77810 | 1 |\n",
       "| item-2 | PSME | 5.33 | 4.95 |  4.851567 | 2.67065 | 2 |\n",
       "| item-3 | PIMO | 8.38 | 4.95 |  6.551044 | 4.36969 | 3 |\n",
       "| item-4 | PSME | 6.10 | 5.26 |  7.595163 | 3.57145 | 4 |\n",
       "| item-5 | PIMO | 6.48 | 5.42 |  7.650902 | 3.50621 | 5 |\n",
       "| item-6 | PSME | 7.37 | 5.58 | 11.502851 | 4.58916 | 6 |\n",
       "\n"
      ],
      "text/plain": [
       "       species diameter height leafarea  branchmass new_column\n",
       "item-1 PIPO    4.83     3.57    2.636336 1.77810    1         \n",
       "item-2 PSME    5.33     4.95    4.851567 2.67065    2         \n",
       "item-3 PIMO    8.38     4.95    6.551044 4.36969    3         \n",
       "item-4 PSME    6.10     5.26    7.595163 3.57145    4         \n",
       "item-5 PIMO    6.48     5.42    7.650902 3.50621    5         \n",
       "item-6 PSME    7.37     5.58   11.502851 4.58916    6         "
      ]
     },
     "metadata": {},
     "output_type": "display_data"
    }
   ],
   "source": [
    "# add new colulumn\n",
    "data$new_column <- c(1:nrow(data))\n",
    "head(data)"
   ]
  },
  {
   "cell_type": "code",
   "execution_count": 85,
   "metadata": {
    "vscode": {
     "languageId": "r"
    }
   },
   "outputs": [
    {
     "data": {
      "text/html": [
       "<table class=\"dataframe\">\n",
       "<caption>A data.frame: 6 × 5</caption>\n",
       "<thead>\n",
       "\t<tr><th></th><th scope=col>species</th><th scope=col>diameter</th><th scope=col>height</th><th scope=col>leafarea</th><th scope=col>branchmass</th></tr>\n",
       "\t<tr><th></th><th scope=col>&lt;chr&gt;</th><th scope=col>&lt;dbl&gt;</th><th scope=col>&lt;dbl&gt;</th><th scope=col>&lt;dbl&gt;</th><th scope=col>&lt;dbl&gt;</th></tr>\n",
       "</thead>\n",
       "<tbody>\n",
       "\t<tr><th scope=row>item-1</th><td>PIPO</td><td>4.83</td><td>3.57</td><td> 2.636336</td><td>1.77810</td></tr>\n",
       "\t<tr><th scope=row>item-2</th><td>PSME</td><td>5.33</td><td>4.95</td><td> 4.851567</td><td>2.67065</td></tr>\n",
       "\t<tr><th scope=row>item-3</th><td>PIMO</td><td>8.38</td><td>4.95</td><td> 6.551044</td><td>4.36969</td></tr>\n",
       "\t<tr><th scope=row>item-4</th><td>PSME</td><td>6.10</td><td>5.26</td><td> 7.595163</td><td>3.57145</td></tr>\n",
       "\t<tr><th scope=row>item-5</th><td>PIMO</td><td>6.48</td><td>5.42</td><td> 7.650902</td><td>3.50621</td></tr>\n",
       "\t<tr><th scope=row>item-6</th><td>PSME</td><td>7.37</td><td>5.58</td><td>11.502851</td><td>4.58916</td></tr>\n",
       "</tbody>\n",
       "</table>\n"
      ],
      "text/latex": [
       "A data.frame: 6 × 5\n",
       "\\begin{tabular}{r|lllll}\n",
       "  & species & diameter & height & leafarea & branchmass\\\\\n",
       "  & <chr> & <dbl> & <dbl> & <dbl> & <dbl>\\\\\n",
       "\\hline\n",
       "\titem-1 & PIPO & 4.83 & 3.57 &  2.636336 & 1.77810\\\\\n",
       "\titem-2 & PSME & 5.33 & 4.95 &  4.851567 & 2.67065\\\\\n",
       "\titem-3 & PIMO & 8.38 & 4.95 &  6.551044 & 4.36969\\\\\n",
       "\titem-4 & PSME & 6.10 & 5.26 &  7.595163 & 3.57145\\\\\n",
       "\titem-5 & PIMO & 6.48 & 5.42 &  7.650902 & 3.50621\\\\\n",
       "\titem-6 & PSME & 7.37 & 5.58 & 11.502851 & 4.58916\\\\\n",
       "\\end{tabular}\n"
      ],
      "text/markdown": [
       "\n",
       "A data.frame: 6 × 5\n",
       "\n",
       "| <!--/--> | species &lt;chr&gt; | diameter &lt;dbl&gt; | height &lt;dbl&gt; | leafarea &lt;dbl&gt; | branchmass &lt;dbl&gt; |\n",
       "|---|---|---|---|---|---|\n",
       "| item-1 | PIPO | 4.83 | 3.57 |  2.636336 | 1.77810 |\n",
       "| item-2 | PSME | 5.33 | 4.95 |  4.851567 | 2.67065 |\n",
       "| item-3 | PIMO | 8.38 | 4.95 |  6.551044 | 4.36969 |\n",
       "| item-4 | PSME | 6.10 | 5.26 |  7.595163 | 3.57145 |\n",
       "| item-5 | PIMO | 6.48 | 5.42 |  7.650902 | 3.50621 |\n",
       "| item-6 | PSME | 7.37 | 5.58 | 11.502851 | 4.58916 |\n",
       "\n"
      ],
      "text/plain": [
       "       species diameter height leafarea  branchmass\n",
       "item-1 PIPO    4.83     3.57    2.636336 1.77810   \n",
       "item-2 PSME    5.33     4.95    4.851567 2.67065   \n",
       "item-3 PIMO    8.38     4.95    6.551044 4.36969   \n",
       "item-4 PSME    6.10     5.26    7.595163 3.57145   \n",
       "item-5 PIMO    6.48     5.42    7.650902 3.50621   \n",
       "item-6 PSME    7.37     5.58   11.502851 4.58916   "
      ]
     },
     "metadata": {},
     "output_type": "display_data"
    }
   ],
   "source": [
    "# delete the new added column\n",
    "data$new_column = NULL\n",
    "head(data)"
   ]
  },
  {
   "attachments": {},
   "cell_type": "markdown",
   "metadata": {},
   "source": [
    "## digramms"
   ]
  },
  {
   "cell_type": "code",
   "execution_count": 107,
   "metadata": {
    "vscode": {
     "languageId": "r"
    }
   },
   "outputs": [
    {
     "data": {
      "image/png": "[encoded data removed]",
      "text/plain": [
       "plot without title"
      ]
     },
     "metadata": {
      "image/png": {
       "height": 420,
       "width": 420
      }
     },
     "output_type": "display_data"
    }
   ],
   "source": [
    "ggplot(data, aes(x=diameter, y=height)) +\n",
    "geom_bar(stat = \"identity\", fill = \"blue\")"
   ]
  },
  {
   "attachments": {},
   "cell_type": "markdown",
   "metadata": {},
   "source": [
    "1. Species"
   ]
  },
  {
   "cell_type": "code",
   "execution_count": 91,
   "metadata": {
    "vscode": {
     "languageId": "r"
    }
   },
   "outputs": [
    {
     "data": {
      "image/png": "[encoded data removed]",
      "text/plain": [
       "plot without title"
      ]
     },
     "metadata": {
      "image/png": {
       "height": 420,
       "width": 420
      }
     },
     "output_type": "display_data"
    }
   ],
   "source": [
    "ggplot(data, aes(x = \"\", fill = species)) + \n",
    "  geom_bar(width = 1) + \n",
    "  coord_polar(theta = \"y\") + \n",
    "  labs(title = \"species Distribution\")"
   ]
  },
  {
   "cell_type": "code",
   "execution_count": 96,
   "metadata": {
    "vscode": {
     "languageId": "r"
    }
   },
   "outputs": [
    {
     "data": {
      "image/png": "[encoded data removed]",
      "text/plain": [
       "plot without title"
      ]
     },
     "metadata": {
      "image/png": {
       "height": 420,
       "width": 420
      }
     },
     "output_type": "display_data"
    }
   ],
   "source": [
    "plot(data$height, data$leafarea, col='black', cex=1, xlab='Height', ylab='Leaferea')"
   ]
  },
  {
   "cell_type": "code",
   "execution_count": 100,
   "metadata": {
    "vscode": {
     "languageId": "r"
    }
   },
   "outputs": [
    {
     "data": {
      "image/png": "[encoded data removed]",
      "text/plain": [
       "plot without title"
      ]
     },
     "metadata": {
      "image/png": {
       "height": 420,
       "width": 420
      }
     },
     "output_type": "display_data"
    }
   ],
   "source": [
    "ggplot(data, aes(x = height, y = branchmass)) + \n",
    "geom_point() +\n",
    "labs(x='Height', y='Branchmass')"
   ]
  }
 ],
 "metadata": {
  "kernelspec": {
   "display_name": "R",
   "language": "R",
   "name": "ir"
  },
  "language_info": {
   "codemirror_mode": "r",
   "file_extension": ".r",
   "mimetype": "text/x-r-source",
   "name": "R",
   "pygments_lexer": "r",
   "version": "4.2.3"
  },
  "orig_nbformat": 4
 },
 "nbformat": 4,
 "nbformat_minor": 2
}
